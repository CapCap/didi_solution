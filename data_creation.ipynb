{
 "cells": [
  {
   "cell_type": "code",
   "execution_count": 1,
   "metadata": {
    "collapsed": true
   },
   "outputs": [],
   "source": [
    "import os, glob, cv2, numpy as np\n",
    "import matplotlib.pyplot as plt"
   ]
  },
  {
   "cell_type": "code",
   "execution_count": 2,
   "metadata": {},
   "outputs": [
    {
     "name": "stdout",
     "output_type": "stream",
     "text": [
      "Number of images: 30604\n"
     ]
    }
   ],
   "source": [
    "IMGS_INFO = '/home/carnd/data_drive/data/didi_final_data/'\n",
    "DATA_OUT_INFO = '/home/carnd/data_drive/data/images6/'\n",
    "imgs = glob.glob(IMGS_INFO + '/**/**/unlabelled/*_rot0.0_intensity*.png') + \\\n",
    "    glob.glob(IMGS_INFO + '/**/**/unlabelled/*_rot90.0_intensity*.png') +\\\n",
    "    glob.glob(IMGS_INFO + '/**/**/unlabelled/*_rot180.0_intensity*.png') +\\\n",
    "    glob.glob(IMGS_INFO + '/**/**/unlabelled/*_rot270.0_intensity*.png')\n",
    "print ('Number of images:', len(imgs))"
   ]
  },
  {
   "cell_type": "code",
   "execution_count": 3,
   "metadata": {
    "collapsed": true
   },
   "outputs": [],
   "source": [
    "#Generate centroid data for the above images\n",
    "centroid_data = []\n",
    "for idx, img_file in enumerate(imgs):\n",
    "    centroid_file = os.path.join(img_file[:-4] + '.txt').replace('unlabelled', '')\n",
    "    data_line = open(centroid_file, 'r').readlines()[0].split(' ')\n",
    "    if data_line[0][0] == '[' and data_line[1][0] == '[':\n",
    "        centroid_data.append([float(data_line[0][1:-2]), float(data_line[1][1:-2]), float(data_line[2])])\n",
    "    else:\n",
    "        centroid_data.append([float(t.strip(',')) for t in data_line])"
   ]
  },
  {
   "cell_type": "code",
   "execution_count": 5,
   "metadata": {},
   "outputs": [
    {
     "name": "stdout",
     "output_type": "stream",
     "text": [
      "Processing 1000  out of  30604\n",
      "Processing 2000  out of  30604\n",
      "Processing 3000  out of  30604\n",
      "Processing 4000  out of  30604\n",
      "Processing 5000  out of  30604\n",
      "Processing 6000  out of  30604\n",
      "Processing 7000  out of  30604\n",
      "Processing 8000  out of  30604\n",
      "Processing 9000  out of  30604\n",
      "Processing 10000  out of  30604\n",
      "Processing 11000  out of  30604\n",
      "Processing 12000  out of  30604\n",
      "Processing 13000  out of  30604\n",
      "Processing 14000  out of  30604\n",
      "Processing 15000  out of  30604\n",
      "Processing 16000  out of  30604\n",
      "Processing 17000  out of  30604\n",
      "Processing 18000  out of  30604\n",
      "Processing 19000  out of  30604\n",
      "Processing 20000  out of  30604\n",
      "Processing 21000  out of  30604\n",
      "Processing 22000  out of  30604\n",
      "Processing 23000  out of  30604\n",
      "Processing 24000  out of  30604\n",
      "Processing 25000  out of  30604\n",
      "Processing 26000  out of  30604\n",
      "Processing 27000  out of  30604\n",
      "Processing 28000  out of  30604\n",
      "Processing 29000  out of  30604\n",
      "Processing 30000  out of  30604\n"
     ]
    }
   ],
   "source": [
    "#Generate images for training\n",
    "car_img_idx, non_car_img_idx, imgs_processed, imgs_cnt = 0, 0, 0, len(imgs)\n",
    "for img_file, centroid in zip(imgs, centroid_data):\n",
    "    imgs_processed += 1\n",
    "    if imgs_processed % 1000 == 0:\n",
    "        print('Processing', imgs_processed, ' out of ', imgs_cnt)\n",
    "    \n",
    "    if centroid[2] < 20.0:\n",
    "        continue\n",
    "        \n",
    "    r = 25\n",
    "    centroid_x = int(centroid[0] * 1.5)\n",
    "    centroid_y = int(centroid[1] * 1.5 * 1.2)\n",
    "    \n",
    "    single_channel_im1 = cv2.imread(img_file)\n",
    "    single_channel_im2 = cv2.imread(img_file.replace('intensity', 'distance'))[:, :, 0]\n",
    "    single_channel_im1[:, :, 1] = single_channel_im2\n",
    "    single_channel_im = single_channel_im1\n",
    "\n",
    "    #uses cut out of width of 75px and height 50px\n",
    "    miny = centroid_y - r * 1.0\n",
    "    maxy = centroid_y + r * 1.0\n",
    "    minx = centroid_x - r * 1.5\n",
    "    maxx = centroid_x + r * 1.5\n",
    "\n",
    "    #crop within bounds\n",
    "    if minx < 0:\n",
    "        minx = 0\n",
    "        maxx = minx + 3 * r\n",
    "    if maxx >= single_channel_im.shape[1]:\n",
    "        maxx = single_channel_im.shape[1]\n",
    "        minx = maxx - 3 * r\n",
    "    if miny < 0:\n",
    "        miny = 0\n",
    "        maxy = miny + 2 * r\n",
    "    if maxy >= single_channel_im.shape[0]:\n",
    "        maxy = single_channel_im.shape[0]\n",
    "        miny = maxy - 2 * r\n",
    "    \n",
    "    minx, maxx, miny, maxy = int(minx), int(maxx), int(miny), int(maxy)\n",
    "    \n",
    "    car_img = single_channel_im[miny:maxy, minx:maxx, :]\n",
    "    cv2.imwrite(DATA_OUT_INFO + 'car_' + str(car_img_idx) + '.png', car_img)\n",
    "        \n",
    "    non_car_images = []\n",
    "    for x1 in range(0, centroid_x - 75, 75)[:-1]:\n",
    "        non_car_images.append(single_channel_im[1:51, x1 : (x1 + 75), :])\n",
    "    for x2 in range(centroid_x + 75, single_channel_im.shape[1] - 1, 75)[:-1]:\n",
    "        non_car_images.append(single_channel_im[1:51:, x2 : (x2 + 75), :])\n",
    "    for x in non_car_images:\n",
    "        cv2.imwrite(DATA_OUT_INFO + 'non_car_' + str(non_car_img_idx) + '.png', x)\n",
    "        non_car_img_idx += 1\n",
    "\n",
    "    car_img_idx += 1"
   ]
  },
  {
   "cell_type": "code",
   "execution_count": null,
   "metadata": {
    "collapsed": true
   },
   "outputs": [],
   "source": []
  }
 ],
 "metadata": {
  "kernelspec": {
   "display_name": "Python 3",
   "language": "python",
   "name": "python3"
  },
  "language_info": {
   "codemirror_mode": {
    "name": "ipython",
    "version": 3
   },
   "file_extension": ".py",
   "mimetype": "text/x-python",
   "name": "python",
   "nbconvert_exporter": "python",
   "pygments_lexer": "ipython3",
   "version": "3.5.2"
  },
  "widgets": {
   "state": {},
   "version": "1.1.2"
  }
 },
 "nbformat": 4,
 "nbformat_minor": 2
}
