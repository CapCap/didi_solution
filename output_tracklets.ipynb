{
 "cells": [
  {
   "cell_type": "code",
   "execution_count": 14,
   "metadata": {},
   "outputs": [
    {
     "name": "stdout",
     "output_type": "stream",
     "text": [
      "numpy v1.12.1\n"
     ]
    }
   ],
   "source": [
    "import sys\n",
    "import os\n",
    "import cv2\n",
    "import math\n",
    "\n",
    "import numpy as np\n",
    "print(\"numpy v%s\"%np.__version__)\n",
    "\n",
    "import pandas as pd\n",
    "import liblas\n",
    "\n",
    "import warnings\n",
    "warnings.filterwarnings('ignore')\n",
    "\n",
    "\n",
    "import os\n",
    "import json\n",
    "import cv2\n",
    "import six\n",
    "import numpy as np\n",
    "import math\n",
    "from moviepy.editor import ImageSequenceClip, clips_array, TextClip, CompositeVideoClip\n",
    "\n",
    "from tracklets.python.generate_tracklet import Tracklet, TrackletCollection\n",
    "\n",
    "from loaders import handle_data_folder\n",
    "# from centroids import get_first_centroid_for\n",
    "from unwrapper import *\n",
    "from image_utils import array_to_image\n",
    "\n",
    "\n",
    "%matplotlib inline\n",
    "import matplotlib as mpl\n",
    "import matplotlib.pyplot as plt\n",
    "\n",
    "mpl.rcParams['savefig.dpi'] = 320\n",
    "mpl.rcParams['figure.dpi'] = 320"
   ]
  },
  {
   "cell_type": "code",
   "execution_count": 53,
   "metadata": {
    "collapsed": true
   },
   "outputs": [],
   "source": [
    "def load_center_json(filepath):\n",
    "    with open(filepath, 'r') as f:\n",
    "        return json.load(f)\n",
    "\n",
    "def draw_centers(img, centers, d=10):\n",
    "    img = np.copy(img)\n",
    "    r = 200 / d\n",
    "    for center in centers:\n",
    "        cv2.circle(img, (int(math.floor(center[0])), int(math.floor(center[1]))), int(r), (255, 0, 0), 2)\n",
    "    return img\n",
    "\n",
    "\n",
    "def load_image(image_filepath):\n",
    "    with open(image_filepath, 'r') as f:\n",
    "        return np.load(f)\n",
    "    \n",
    "def parse_image_name(image_name):\n",
    "    _, rot_str, display_type, timestamp_str = image_name.split('_')\n",
    "    timestamp_str = timestamp_str.replace(\"s\", \"\").replace(\".png\", \"\")\n",
    "    rot = float(rot_str.replace(\"rot\", \"\"))\n",
    "    return rot, display_type, timestamp_str\n",
    "\n",
    "def wrap_point(img_x, img_y, d, unrotation_deg=0.0):\n",
    "    # UNSHIFT COORDINATES\n",
    "    img_x = np.trunc(-img_x - X_MIN).astype(np.int32)\n",
    "    img_y = np.trunc(img_y + Y_MIN).astype(np.int32)\n",
    "\n",
    "    angle_rad = H_RES_RAD * img_x\n",
    "    z = np.tan(-V_RES_RAD * img_y) * d\n",
    "    x = d * np.cos(angle_rad)\n",
    "    y = d * np.sin(angle_rad)\n",
    "\n",
    "    theta = unrotation_deg * float(D2R)\n",
    "    if theta != 0:\n",
    "        x, y, z = rotate_around_center(x, y, z, -theta).T\n",
    "    else:\n",
    "        x, y, z = [[x], [y], [z]]\n",
    "    return x, y, z\n"
   ]
  },
  {
   "cell_type": "code",
   "execution_count": 250,
   "metadata": {},
   "outputs": [],
   "source": [
    "center_json = load_center_json(\"center_without_false_positives_json.js\")\n",
    "#center_json = load_center_json(\"data_3_14_centers_json.js\")\n",
    "base_folder = \"/Users/max/Desktop/carchallenge/training_data/round_1_test/19_f2/unlabelled\"\n",
    "#base_folder = \"/Users/max/Desktop/carchallenge/training_data/data_3/14/labelled\"\n",
    "\n",
    "points_filepath = \"/Users/max/Desktop/carchallenge/car_out/round_1_test/19_f2\"\n",
    "#points_filepath = \"/Users/max/Desktop/carchallenge/car_out/round_1_test/19_f2\"\n"
   ]
  },
  {
   "cell_type": "code",
   "execution_count": 251,
   "metadata": {},
   "outputs": [
    {
     "name": "stdout",
     "output_type": "stream",
     "text": [
      "Loading csv from '/Users/max/Desktop/carchallenge/car_out/round_1_test/19_f2/points.csv'\n"
     ]
    }
   ],
   "source": [
    "data = handle_data_folder(points_filepath)\n",
    "\n",
    "df_points = data[\"points\"]\n",
    "o_points = df_points"
   ]
  },
  {
   "cell_type": "code",
   "execution_count": 252,
   "metadata": {},
   "outputs": [],
   "source": [
    "image_names = sorted([key for key in six.iterkeys(center_json)])\n",
    "\n",
    "image_frames = {}\n",
    "xyz_point_dict = {}\n",
    "tracklets = []"
   ]
  },
  {
   "cell_type": "code",
   "execution_count": null,
   "metadata": {},
   "outputs": [],
   "source": []
  },
  {
   "cell_type": "code",
   "execution_count": null,
   "metadata": {},
   "outputs": [],
   "source": []
  },
  {
   "cell_type": "code",
   "execution_count": 263,
   "metadata": {},
   "outputs": [],
   "source": [
    "image_frames = {}\n",
    "xyz_point_dict = {}\n",
    "tracklets = []\n",
    "\n",
    "for image_name in image_names:\n",
    "    rot, display_type, timestamp_str = parse_image_name(image_name)\n",
    "\n",
    "    if rot not in xyz_point_dict:\n",
    "        xyz_point_dict[rot] = []\n",
    "\n",
    "    img_xy_points = center_json[image_name]\n",
    "\n",
    "    #points = df_points.get_group(int(timestamp_str))\n",
    "    #points = calculate_distance(points, d_range=(0.0, 40.0))\n",
    "\n",
    "    #x_points, y_points = unwrap_point(points['x'], points['y'], points['z'], points['map_distance'], rotation_deg=rot)\n",
    "    #img_distance = array_to_image(points['map_distance'], [x_points, y_points], IMG_DIMENSIONS)\n",
    "    # for img_x, img_y in img_xy_points:\n",
    "    #if len(img_xy_points) > 0:\n",
    "    #    if img_xy_points[0] is not None:\n",
    "    #        if not isinstance(img_xy_points[0], list):\n",
    "    #            img_xy_points = [img_xy_points]\n",
    "            #if isintance(img_xy_points[0], list):\n",
    "            #    if len(img_xy_points[0]) == 1:\n",
    "                    \n",
    "    if len(img_xy_points) > 0:\n",
    "        img_x, img_y, img_d = img_xy_points[0]\n",
    "        \n",
    "        #image_filepath = os.path.join(base_folder, image_name)\n",
    "        #img = cv2.imread(image_filepath)\n",
    "        d = img_d #(float(np.mean(img[img_y][img_x]))/255.0)*40.0\n",
    "        \n",
    "        img_x = img_x / 1.5\n",
    "        img_y = img_y / (1.5 * 1.2)\n",
    "        \n",
    "        #d = img_distance[int(img_y)][int(img_y)]\n",
    "\n",
    "        xyz_point = np.array(wrap_point(img_x, img_y, d, unrotation_deg=rot)).flatten()\n",
    "\n",
    "        xyz_point_dict[rot].append(list(xyz_point))\n",
    "    else:\n",
    "       # if len(xyz_point_dict[rot]) > 0:\n",
    "           # xyz_point_dict[rot].append(xyz_point_dict[rot][-1])\n",
    "        #else: \n",
    "        xyz_point_dict[rot].append(None)"
   ]
  },
  {
   "cell_type": "code",
   "execution_count": 268,
   "metadata": {},
   "outputs": [
    {
     "name": "stdout",
     "output_type": "stream",
     "text": [
      "1\n",
      "268\n",
      "None\n"
     ]
    }
   ],
   "source": [
    "print(len(xyz_point_dict))\n",
    "print(len(xyz_point_dict[0]))\n",
    "print(xyz_point_dict.values()[0][0])\n",
    "#xyz_point_dict"
   ]
  },
  {
   "cell_type": "code",
   "execution_count": 281,
   "metadata": {},
   "outputs": [
    {
     "name": "stdout",
     "output_type": "stream",
     "text": [
      "(1, 268, 0)\n",
      "268\n",
      "[[], [], [], [], [], [], [], [], [], [], [], [], [], [], [], [], [], [], [], [], [], [], [], [], [], [], [], [], [], [], [], [], [], [], [], [], [], [], [], [], [], [], [], [], [], [], [], [], [], [], [], [], [], [], [], [], [], [], [], [], [], [], [], [], [], [], [], [], [], [], [], [], [], [], [], [], [], [], [], [], [], [], [], [], [], [], [], [], [], [], [], [], [], [], [], [], [], [], [], [], [], [], [[2.9380909452737116, 2.3538547062050079, -0.1314664263218738]], [], [[3.1541233470383196, 3.0565581654250673, -0.15337749737551945]], [[2.2412324805120063, 2.6241460773648133, -0.301921662363973]], [[6.7236974415360198, 7.8724382320944395, -0.90576498709191899]], [[6.6218232378763817, 7.7531588649414926, -0.89204127516628384]], [[7.3349426634938384, 8.5881144350121144, -0.98810725864572968]], [[5.8627986482844081, 8.3419186874708267, -0.89204127516628384]], [[10.181189892493395, 17.849526022180868, -0.71758757700689446]], [[-5.3216172345966175, 7.5718954240119825, -0.80969900361247316]], [[-5.2314203323153183, 7.4435582134355069, -0.79597529168683789]], [[-4.780435820908826, 6.8018721605531365, -0.72735673205866225]], [[-6.5335412188650919, 6.3314419140947802, -0.79597529168683789]], [], [], [], [], [], [], [], [], [], [], [], [], [], [], [], [], [], [], [], [], [], [], [], [], [], [], [], [], [], [], [], [], [], [], [], [], [], [], [], [], [], [], [], [], [], [], [], [], [], [], [], [], [], [], [], [], [], [], [], [], [], [], [], [], [], [], [], [], [], [], [], [], [], [], [], [], [], [], [], [], [], [], [], [], [], [], [], [], [], [], [], [], [], [], [], [], [], [], [], [], [], [], [], [], [], [], [], [], [], [], [], [], [], [], [], [], [], [], [], [], [], [], [[2.463678753363431, 1.0204891529735729, -0.093122051977993947]], [[0.43476683882884082, 0.18008632111298345, -0.016433303290234225]], [[17.680518112372859, 7.3235103919279938, -0.66828766713619181]], [[9.2882034848537192, 4.9178505969346533, -0.91948869901755415]], [[8.6530644471067966, 5.6840009392747763, -0.90576498709191899]], [[1.0103470885680468, 1.7713270098347427, -0.17840825503325675]], [[2.9470133734106136, 8.6075216959996279, -0.79597529168683789]], [[2.9470133734106136, 8.6075216959996279, -0.79597529168683789]], [[2.1605139556860253, 8.9991882828961458, -0.80969900361247316]], [[-0.72937108297101638, 5.1248283458268862, -0.81987239697407022]], [[-1.2084230599599817, 5.0334442938232673, -0.81987239697407022]], [[-3.031041265704141, 5.3139810295042293, -0.96894010551481025]], [[-5.8576576444997377, 5.6764651643608373, -0.71363302013302699]], [], [], [], [], [], [], [], [], [], [], [], [], [], [], [], [], [], []]\n"
     ]
    }
   ],
   "source": [
    "#xyz_point_averages = np.average(xyz_point_dict.values(), axis=0)\n",
    "#xyz_point_averages.shape\n",
    "num_arr = len(xyz_point_dict.values())\n",
    "num_in_arr = len(xyz_point_dict.values()[0])\n",
    "xyz_point_averages = None\n",
    "xyz_point_averages = []*num_in_arr\n",
    "null_votes = [0]*num_in_arr\n",
    "print(num_arr, num_in_arr, len(xyz_point_averages))\n",
    "\n",
    "\n",
    "#for i in range(num_in_arr):\n",
    "    #for xyz_point_arr in xyz_point_arrs:\n",
    "#    xyz_point_averages[i].append([x, y, z])\n",
    "    \n",
    "for rot, xyz_point_arr in xyz_point_dict.items():\n",
    "    #if rot != 0.0:\n",
    "    #    pass\n",
    "    #print(len(xyz_point_arr), xyz_point_arr[0])\n",
    "    for i in range(num_in_arr):\n",
    "        if len(xyz_point_averages) <= i:\n",
    "            xyz_point_averages.append([])\n",
    "            \n",
    "        xyz_point = xyz_point_arr[i]\n",
    "        if xyz_point is None or len(xyz_point) < 3:\n",
    "            null_votes[i] += 1\n",
    "        elif xyz_point[0]==0 and xyz_point[1] == 0 and xyz_point[2] == 0:\n",
    "            null_votes[i] += 1\n",
    "        else:\n",
    "            x, y, z = xyz_point\n",
    "            xyz_point_averages[i].append([x, y, z])\n",
    "            \n",
    "        #print(i, len(xyz_point_averages[i]))#, xyz_point_averages)\n",
    "print(len(xyz_point_averages))\n",
    "\n",
    "if False:\n",
    "    for i in range(len(xyz_point_averages)):\n",
    "        if null_votes[i] > 0 and float(len(xyz_point_averages[i]))/float(null_votes[i]) >= 0.3:\n",
    "            xyz_point_averages[i] = np.mean(xyz_point_averages[i], axis=0)\n",
    "        else:\n",
    "            xyz_point_averages[i] = None\n",
    "\n",
    "#print(xyz_point_averages)\n",
    "    \n",
    "#for pt in xyz_point_averages:\n",
    "#    print(len(pt))\n",
    "#for i in range(len(xyz_point_arr)):\n",
    "    \n",
    "#print(null_votes)\n",
    "print(xyz_point_averages)\n",
    "        "
   ]
  },
  {
   "cell_type": "code",
   "execution_count": 289,
   "metadata": {},
   "outputs": [
    {
     "name": "stdout",
     "output_type": "stream",
     "text": [
      "(None, 268)\n",
      "start_frame: 245\n",
      "(None, 3)\n",
      "start_frame: 247\n",
      "(None, 27)\n",
      "start_frame: 541\n",
      "(None, 31)\n",
      "3\n"
     ]
    }
   ],
   "source": [
    "NUM_IMAGES = 646\n",
    "#NUM_IMAGES = 320\n",
    "tracklets = []\n",
    "rot = None\n",
    "#xyz_point_averages = xyz_point_dict.values()[0]\n",
    "#for rot, xyz_points in six.iteritems(xyz_point_dict):\n",
    "xyz_points = xyz_point_averages\n",
    "print(rot, len(xyz_points))\n",
    "\n",
    "img_have = len(xyz_points)\n",
    "img_need = float(NUM_IMAGES)/len(xyz_points)\n",
    "\n",
    "current_img_need = img_need\n",
    "\n",
    "tc = TrackletCollection()\n",
    "tracklet = None\n",
    "\n",
    "pose = None\n",
    "start_frame = 0\n",
    "for xyz_point in xyz_points:\n",
    "    if len(xyz_point) == 0:\n",
    "        xyz_point = None\n",
    "        \n",
    "    if xyz_point is None:\n",
    "        pose = None\n",
    "        if tracklet is not None:\n",
    "            print(rot, len(tracklet.poses))\n",
    "            tc.tracklets.append(tracklet)\n",
    "            tracklet = None\n",
    "    else:\n",
    "        if pose is None:\n",
    "            tracklet = Tracklet(object_type=\"Car\", l=4.5, w=4.52, h=1.39)\n",
    "            tracklet.first_frame = start_frame\n",
    "            print(\"start_frame: %s\"%start_frame)\n",
    "            \n",
    "        xyz_point = xyz_point[0]\n",
    "        pose = {\n",
    "            \"tx\": xyz_point[0],\n",
    "            \"ty\": xyz_point[1],\n",
    "            \"tz\": xyz_point[2],\n",
    "            \"rx\": 0,\n",
    "            \"ry\": 0,\n",
    "            \"rz\": 0\n",
    "        }\n",
    "        \n",
    "    while current_img_need >= 1.0:\n",
    "        current_img_need -= 1.0\n",
    "        if pose is None:\n",
    "            start_frame += 1\n",
    "        else:\n",
    "            tracklet.poses.append(pose)\n",
    "\n",
    "    if current_img_need < 1:\n",
    "        current_img_need += img_need\n",
    "        \n",
    "        \n",
    "#if len(tracklet.poses) < NUM_IMAGES:\n",
    "#    tracklet.poses.append(tracklet.poses[-1])\n",
    "\n",
    "if tracklet is not None:\n",
    "    print(\"how is the tracklet not null at the end\")\n",
    "    if len(tc.tracklets) > 0:\n",
    "        tc.tracklets.append(tracklet)\n",
    "    elif tc.tracklets[-1] != tracklet:\n",
    "        tc.tracklets.append(tracklet)\n",
    "\n",
    "longest_tracklet = tc.tracklets[0]\n",
    "for tracklet in tc.tracklets:\n",
    "    if len(tracklet.poses) > len(longest_tracklet.poses):\n",
    "        longest_tracklet = tracklet\n",
    "\n",
    "#tc.tracklets = [longest_tracklet]\n",
    "\n",
    "print(len(tc.tracklets))\n",
    "\n",
    "\n",
    "#tc.write_xml(\"output_data_3_14_tracklets.xml\")\n",
    "tc.write_xml(\"output_tracklets.xml\")\n"
   ]
  },
  {
   "cell_type": "code",
   "execution_count": 238,
   "metadata": {
    "collapsed": true
   },
   "outputs": [],
   "source": [
    "path = \"/Users/max/Desktop/carchallenge/training_data/round_1_test/19_f2/unlabelled/\"\n",
    "image_paths = sorted([x for x in os.listdir(path) if \"unwrapped_rot0.0_intensity\" in x and x.endswith(\"png\")])\n",
    "images = [cv2.imread(image_filepath, 0) for image_filepath in image_paths]"
   ]
  },
  {
   "cell_type": "code",
   "execution_count": 236,
   "metadata": {},
   "outputs": [
    {
     "ename": "AttributeError",
     "evalue": "'NoneType' object has no attribute 'shape'",
     "output_type": "error",
     "traceback": [
      "\u001b[0;31m---------------------------------------------------------------------------\u001b[0m",
      "\u001b[0;31mAttributeError\u001b[0m                            Traceback (most recent call last)",
      "\u001b[0;32m<ipython-input-236-8b51c057b661>\u001b[0m in \u001b[0;36m<module>\u001b[0;34m()\u001b[0m\n\u001b[1;32m      8\u001b[0m     \u001b[0;32mcontinue\u001b[0m\u001b[0;34m\u001b[0m\u001b[0m\n\u001b[1;32m      9\u001b[0m \u001b[0;34m\u001b[0m\u001b[0m\n\u001b[0;32m---> 10\u001b[0;31m \u001b[0mfinal_clip\u001b[0m \u001b[0;34m=\u001b[0m \u001b[0mImageSequenceClip\u001b[0m\u001b[0;34m(\u001b[0m\u001b[0mimages\u001b[0m\u001b[0;34m,\u001b[0m \u001b[0mfps\u001b[0m\u001b[0;34m=\u001b[0m\u001b[0;36m13\u001b[0m\u001b[0;34m)\u001b[0m\u001b[0;34m\u001b[0m\u001b[0m\n\u001b[0m\u001b[1;32m     11\u001b[0m \u001b[0mfinal_clip\u001b[0m\u001b[0;34m.\u001b[0m\u001b[0mwrite_videofile\u001b[0m\u001b[0;34m(\u001b[0m\u001b[0;34m\"results_output_votes.mp4\"\u001b[0m\u001b[0;34m,\u001b[0m \u001b[0mcodec\u001b[0m\u001b[0;34m=\u001b[0m\u001b[0;34m'mpeg4'\u001b[0m\u001b[0;34m)\u001b[0m\u001b[0;34m\u001b[0m\u001b[0m\n",
      "\u001b[0;32m/Users/max/.pyenv/versions/anaconda2-4.3.0/lib/python2.7/site-packages/moviepy/video/io/ImageSequenceClip.pyc\u001b[0m in \u001b[0;36m__init__\u001b[0;34m(self, sequence, fps, durations, with_mask, ismask, load_images)\u001b[0m\n\u001b[1;32m     81\u001b[0m            \u001b[0msize\u001b[0m \u001b[0;34m=\u001b[0m \u001b[0mimread\u001b[0m\u001b[0;34m(\u001b[0m\u001b[0msequence\u001b[0m\u001b[0;34m[\u001b[0m\u001b[0;36m0\u001b[0m\u001b[0;34m]\u001b[0m\u001b[0;34m)\u001b[0m\u001b[0;34m.\u001b[0m\u001b[0mshape\u001b[0m\u001b[0;34m\u001b[0m\u001b[0m\n\u001b[1;32m     82\u001b[0m         \u001b[0;32melse\u001b[0m\u001b[0;34m:\u001b[0m\u001b[0;34m\u001b[0m\u001b[0m\n\u001b[0;32m---> 83\u001b[0;31m            \u001b[0msize\u001b[0m \u001b[0;34m=\u001b[0m \u001b[0msequence\u001b[0m\u001b[0;34m[\u001b[0m\u001b[0;36m0\u001b[0m\u001b[0;34m]\u001b[0m\u001b[0;34m.\u001b[0m\u001b[0mshape\u001b[0m\u001b[0;34m\u001b[0m\u001b[0m\n\u001b[0m\u001b[1;32m     84\u001b[0m \u001b[0;34m\u001b[0m\u001b[0m\n\u001b[1;32m     85\u001b[0m         \u001b[0;32mfor\u001b[0m \u001b[0mimage\u001b[0m \u001b[0;32min\u001b[0m \u001b[0msequence\u001b[0m\u001b[0;34m:\u001b[0m\u001b[0;34m\u001b[0m\u001b[0m\n",
      "\u001b[0;31mAttributeError\u001b[0m: 'NoneType' object has no attribute 'shape'"
     ]
    }
   ],
   "source": [
    "labeled_images = []\n",
    "for tracklet, xyz_point in zip(tracklets, xyz_points):\n",
    "    if len(tracklet.poses) > 0:\n",
    "        pose = tracklet.poses[0]\n",
    "        pose[\"tx\"]\n",
    "        pose[\"ty\"]\n",
    "        pose[\"tz\"]\n",
    "    continue\n",
    "\n",
    "final_clip = ImageSequenceClip(images, fps=13)\n",
    "final_clip.write_videofile(\"results_output_votes.mp4\", codec='mpeg4')"
   ]
  },
  {
   "cell_type": "code",
   "execution_count": 195,
   "metadata": {},
   "outputs": [
    {
     "name": "stdout",
     "output_type": "stream",
     "text": [
      "646\n"
     ]
    }
   ],
   "source": [
    "print(len(tracklets))\n"
   ]
  },
  {
   "cell_type": "code",
   "execution_count": 43,
   "metadata": {},
   "outputs": [],
   "source": [
    "img_path = \"/Users/max/Desktop/carchallenge/training_data/round_1_test/19_f2/unlabelled/unwrapped_rot0.0_distance_s1490993844094312000.png\"\n",
    "img = cv2.imread(img_path)"
   ]
  },
  {
   "cell_type": "code",
   "execution_count": 17,
   "metadata": {},
   "outputs": [
    {
     "data": {
      "text/plain": [
       "<matplotlib.image.AxesImage at 0x116208c90>"
      ]
     },
     "execution_count": 17,
     "metadata": {},
     "output_type": "execute_result"
    },
    {
     "data": {
      "image/png": "[encoded data removed]",
      "text/plain": [
       "<matplotlib.figure.Figure at 0x1161c5990>"
      ]
     },
     "metadata": {},
     "output_type": "display_data"
    }
   ],
   "source": [
    "plt.imshow(img)"
   ]
  },
  {
   "cell_type": "code",
   "execution_count": 20,
   "metadata": {},
   "outputs": [
    {
     "data": {
      "text/plain": [
       "255"
      ]
     },
     "execution_count": 20,
     "metadata": {},
     "output_type": "execute_result"
    }
   ],
   "source": [
    "np.max(img)"
   ]
  },
  {
   "cell_type": "code",
   "execution_count": null,
   "metadata": {
    "collapsed": true
   },
   "outputs": [],
   "source": []
  }
 ],
 "metadata": {
  "kernelspec": {
   "display_name": "Python 2",
   "language": "python",
   "name": "python2"
  },
  "language_info": {
   "codemirror_mode": {
    "name": "ipython",
    "version": 2
   },
   "file_extension": ".py",
   "mimetype": "text/x-python",
   "name": "python",
   "nbconvert_exporter": "python",
   "pygments_lexer": "ipython2",
   "version": "2.7.13"
  },
  "widgets": {
   "state": {},
   "version": "1.1.2"
  }
 },
 "nbformat": 4,
 "nbformat_minor": 2
}
