{
 "cells": [
  {
   "cell_type": "code",
   "execution_count": 3,
   "metadata": {
    "collapsed": true
   },
   "outputs": [],
   "source": [
    "import sys\n",
    "import os\n",
    "import numpy as np\n",
    "import pandas as pd\n",
    "import cv2\n",
    "#import tensorflow as tf\n",
    "import glob\n",
    "import pcl\n",
    "import math\n",
    "import pickle\n",
    "import six\n",
    "import parse_xml as pt"
   ]
  },
  {
   "cell_type": "code",
   "execution_count": 4,
   "metadata": {},
   "outputs": [],
   "source": [
    "import dask.array as da\n",
    "\n",
    "import traceback\n",
    "def pv(var):\n",
    "    (filename,line_number,function_name,text)=traceback.extract_stack()[-2]\n",
    "    print('%s: %s'%(text[text.find('(')+1:-1],var))\n"
   ]
  },
  {
   "cell_type": "code",
   "execution_count": 5,
   "metadata": {
    "collapsed": true
   },
   "outputs": [],
   "source": [
    "os.environ[\"CUDA_VISIBLE_DEVICES\"] = \"\"\n",
    "\n",
    "import model_01_conv\n",
    "import layers\n",
    "import input_helpers"
   ]
  },
  {
   "cell_type": "code",
   "execution_count": 6,
   "metadata": {
    "collapsed": true
   },
   "outputs": [],
   "source": [
    "# reload everything\n",
    "\n",
    "import imp \n",
    "\n",
    "imp.reload(input_helpers)\n",
    "imp.reload(layers)\n",
    "imp.reload(model_01_conv)\n",
    "\n",
    "None"
   ]
  },
  {
   "cell_type": "code",
   "execution_count": 7,
   "metadata": {
    "collapsed": true
   },
   "outputs": [],
   "source": [
    "# Clear graph\n",
    "try:\n",
    "    with model_01_conv.tf.Session() as sess:\n",
    "        with model_01_conv.tf.device(\"/cpu:0\"):\n",
    "            model_01_conv.tf.reset_default_graph()\n",
    "    None\n",
    "except:\n",
    "    pass"
   ]
  },
  {
   "cell_type": "code",
   "execution_count": 8,
   "metadata": {
    "collapsed": true
   },
   "outputs": [],
   "source": [
    "resolution=0.1\n",
    "scale=8\n",
    "voxel_shape=(800, 800, 80)\n",
    "x=(-40, 40)\n",
    "y=(-40, 40)\n",
    "z=(-4, 4)"
   ]
  },
  {
   "cell_type": "code",
   "execution_count": null,
   "metadata": {},
   "outputs": [],
   "source": []
  },
  {
   "cell_type": "code",
   "execution_count": 9,
   "metadata": {
    "scrolled": false
   },
   "outputs": [
    {
     "name": "stdout",
     "output_type": "stream",
     "text": [
      "INFO:tensorflow:Restoring parameters from /home/paperspace/Desktop/didi_solution/cnn_3d/3dcnn_800x800x80_res0.1_sc86.ckpt\n",
      "objectness.shape:  (1, 100, 100, 10, 2)\n",
      "objectness.max && min:  357.44 -294.982\n",
      "y_pred.shape:  (1, 100, 100, 10, 2)\n",
      "y_pred.max && min:  1.0 0.0\n",
      "centers:  [[ 0  0  0]\n",
      " [ 0  0  0]\n",
      " [ 0  0  0]\n",
      " ..., \n",
      " [ 0 99 99]\n",
      " [ 0 99 99]\n",
      " [ 0 99 99]]\n",
      "centers.shape:  (99948, 3)\n",
      "voxels_shape:  (?, 800, 800, 80, 1)\n"
     ]
    }
   ],
   "source": [
    "path_prefix = \"/home/paperspace/Desktop/converted/car/training/suburu_leading_front_left/*/\"\n",
    "\n",
    "points_glob = path_prefix+\"points/*.pcd\"\n",
    "labels_glob = path_prefix+\"labels/*.pickle\"\n",
    "\n",
    "model_name = \"3dcnn_800x800x80_res0.1_sc86.ckpt\"\n",
    "\n",
    "model_path = \"/home/paperspace/Desktop/didi_solution/cnn_3d/\"+model_name\n",
    "\n",
    "points_paths = glob.glob(points_glob)\n",
    "points_path = points_paths[600]\n",
    "\n",
    "config = model_01_conv.tf.ConfigProto(device_count = {'GPU': 0})\n",
    "sess = model_01_conv.tf.Session\n",
    "\n",
    "with model_01_conv.tf.device(\"/cpu:0\"):\n",
    "    coord, objectness, centers, y_pred = model_01_conv.test(model_path, points_path,\n",
    "                          voxel_shape=(800, 800, 80),\n",
    "                          resolution=0.1,\n",
    "                          scale=8, \n",
    "                          x=(-40, 40),\n",
    "                          y=(-40, 40),\n",
    "                          z=(-4, 4)\n",
    "                          #y_thresh=0.75\n",
    "                         )"
   ]
  },
  {
   "cell_type": "code",
   "execution_count": 75,
   "metadata": {},
   "outputs": [
    {
     "name": "stdout",
     "output_type": "stream",
     "text": [
      "coord.shape: (1, 100, 100, 10, 24)\n",
      "centers.shape: (1, 3)\n",
      "y_pred.shape: (1, 100, 100, 10, 2)\n",
      "objectness.shape: (1, 100, 100, 10, 2)\n",
      "-\n",
      "objc.shape: (100, 100, 10)\n",
      "co.shape: (100, 100, 10, 24)\n",
      "yp.shape: (100, 100, 10)\n",
      "pc.shape: (30988, 3)\n"
     ]
    }
   ],
   "source": [
    "pv(coord.shape)\n",
    "pv(centers.shape)\n",
    "pv(y_pred.shape)\n",
    "pv(objectness.shape)\n",
    "print(\"-\")\n",
    "\n",
    "co = coord[0]\n",
    "objc = objectness[0, :, :, :, 1]\n",
    "yp = y_pred[0, :, :, :, 1]\n",
    "\n",
    "pv(objc.shape)\n",
    "pv(co.shape)\n",
    "pv(yp.shape)\n",
    "\n",
    "label_path = input_helpers.get_label_path_for_point_path(points_path) \n",
    "pc = input_helpers.load_pc_from_pcd(points_path)\n",
    "pv(pc.shape)\n"
   ]
  },
  {
   "cell_type": "code",
   "execution_count": 76,
   "metadata": {},
   "outputs": [
    {
     "name": "stdout",
     "output_type": "stream",
     "text": [
      "cmin:  -617.52\n",
      "cmax:  618.859\n",
      "omin:  -294.982\n",
      "omax:  357.44\n",
      "ymin:  0.0\n",
      "ymax:  1.0\n"
     ]
    }
   ],
   "source": [
    "print(\"cmin: \", np.min(coord) )\n",
    "print(\"cmax: \", np.max(coord) )\n",
    "\n",
    "print(\"omin: \", np.min(objectness) )\n",
    "print(\"omax: \", np.max(objectness) )\n",
    "\n",
    "print(\"ymin: \", np.min(y_pred) )\n",
    "print(\"ymax: \", np.max(y_pred) )"
   ]
  },
  {
   "cell_type": "code",
   "execution_count": 87,
   "metadata": {},
   "outputs": [
    {
     "name": "stdout",
     "output_type": "stream",
     "text": [
      "yp.shape: (100, 100, 10)\n",
      "index.shape: (3, 1)\n",
      "co.shape: (100, 100, 10, 24)\n",
      "centers.shape: (1, 3)\n"
     ]
    }
   ],
   "source": [
    "yp = y_pred[0, :, :, :, 0]\n",
    "pv(yp.shape)\n",
    "index = np.where(yp >= .995) \n",
    "index = np.array(index)\n",
    "\n",
    "centers = np.vstack((index[0], np.vstack((index[1], index[2])))).transpose()\n",
    "pv(index.shape)\n",
    "pv(co.shape)\n",
    "\n",
    "centers = input_helpers.sphere2center(centers,\n",
    "                                resolution=resolution,\n",
    "                                scale=scale,\n",
    "                                min_value=np.array([x[0], y[0], z[0]]))\n",
    "\n",
    "pv(centers.shape)\n",
    "#print(coord[0][16][85])"
   ]
  },
  {
   "cell_type": "code",
   "execution_count": 88,
   "metadata": {},
   "outputs": [],
   "source": [
    "c0 = centers"
   ]
  },
  {
   "cell_type": "code",
   "execution_count": 103,
   "metadata": {},
   "outputs": [
    {
     "name": "stdout",
     "output_type": "stream",
     "text": [
      "co.shape: (100, 100, 10, 24)\n",
      "index.shape: (3, 1)\n",
      "index[:,:].shape: (3, 1)\n",
      "centers.shape: (1, 3)\n",
      "co[index].shape: (3, 1, 100, 10, 24)\n",
      "corners.shape: (8, 1, 3)\n"
     ]
    }
   ],
   "source": [
    "pv(co.shape)\n",
    "pv(index.shape)\n",
    "pv(index[:,:].shape)\n",
    "pv(centers.shape)\n",
    "pv(co[index].shape)\n",
    "corners = co[index[0], index[1], index[2]].reshape(-1, 3)[:, np.newaxis] + centers\n",
    "#corners = co[index].T + centers\n",
    "pv(corners.shape)"
   ]
  },
  {
   "cell_type": "code",
   "execution_count": 107,
   "metadata": {},
   "outputs": [
    {
     "name": "stdout",
     "output_type": "stream",
     "text": [
      "pc.shape: (30988, 3)\n",
      "bbox.shape: (1, 8, 3)\n"
     ]
    }
   ],
   "source": [
    "pv(pc.shape)\n",
    "places, rots, size = input_helpers.read_labels(label_path)\n",
    "bbox = input_helpers.get_boxcorners(places, rots, size)\n",
    "pv(bbox.shape)"
   ]
  },
  {
   "cell_type": "code",
   "execution_count": 108,
   "metadata": {},
   "outputs": [],
   "source": [
    "publish_pc2(pc, corners.reshape(-1, 3), bbox.reshape(-1, 3))"
   ]
  },
  {
   "cell_type": "code",
   "execution_count": 83,
   "metadata": {},
   "outputs": [
    {
     "name": "stdout",
     "output_type": "stream",
     "text": [
      "(99947, 3)\n"
     ]
    }
   ],
   "source": [
    "print(centers.shape)"
   ]
  },
  {
   "cell_type": "code",
   "execution_count": null,
   "metadata": {
    "collapsed": true
   },
   "outputs": [],
   "source": []
  },
  {
   "cell_type": "code",
   "execution_count": 22,
   "metadata": {},
   "outputs": [],
   "source": []
  },
  {
   "cell_type": "code",
   "execution_count": null,
   "metadata": {},
   "outputs": [],
   "source": []
  },
  {
   "cell_type": "code",
   "execution_count": 84,
   "metadata": {},
   "outputs": [
    {
     "ename": "MemoryError",
     "evalue": "",
     "output_type": "error",
     "traceback": [
      "\u001b[0;31m---------------------------------------------------------------------------\u001b[0m",
      "\u001b[0;31mMemoryError\u001b[0m                               Traceback (most recent call last)",
      "\u001b[0;32m<ipython-input-84-b83b5da24a6e>\u001b[0m in \u001b[0;36m<module>\u001b[0;34m()\u001b[0m\n\u001b[0;32m----> 1\u001b[0;31m \u001b[0mcorners\u001b[0m \u001b[0;34m=\u001b[0m \u001b[0mobjectness\u001b[0m\u001b[0;34m[\u001b[0m\u001b[0;36m0\u001b[0m\u001b[0;34m,\u001b[0m \u001b[0;34m:\u001b[0m\u001b[0;34m,\u001b[0m \u001b[0;34m:\u001b[0m\u001b[0;34m,\u001b[0m \u001b[0;34m:\u001b[0m\u001b[0;34m,\u001b[0m \u001b[0;36m0\u001b[0m\u001b[0;34m]\u001b[0m\u001b[0;34m[\u001b[0m\u001b[0mindex\u001b[0m\u001b[0;34m]\u001b[0m\u001b[0;34m.\u001b[0m\u001b[0mreshape\u001b[0m\u001b[0;34m(\u001b[0m\u001b[0;34m-\u001b[0m\u001b[0;36m1\u001b[0m\u001b[0;34m,\u001b[0m \u001b[0;36m3\u001b[0m\u001b[0;34m)\u001b[0m\u001b[0;34m[\u001b[0m\u001b[0;34m:\u001b[0m\u001b[0;34m,\u001b[0m \u001b[0mnp\u001b[0m\u001b[0;34m.\u001b[0m\u001b[0mnewaxis\u001b[0m\u001b[0;34m]\u001b[0m \u001b[0;34m+\u001b[0m \u001b[0mcenters\u001b[0m\u001b[0;34m\u001b[0m\u001b[0m\n\u001b[0m\u001b[1;32m      2\u001b[0m \u001b[0;31m#corners2 = objectness[0, :, :, :, 1][index].reshape(-1, 3)[:, np.newaxis] + centers\u001b[0m\u001b[0;34m\u001b[0m\u001b[0;34m\u001b[0m\u001b[0m\n",
      "\u001b[0;31mMemoryError\u001b[0m: "
     ]
    }
   ],
   "source": [
    "corners = objectness[0, :, :, :, 0][index].reshape(-1, 3)[:, np.newaxis] + centers\n",
    "#corners2 = objectness[0, :, :, :, 1][index].reshape(-1, 3)[:, np.newaxis] + centers\n"
   ]
  },
  {
   "cell_type": "code",
   "execution_count": 79,
   "metadata": {},
   "outputs": [
    {
     "name": "stdout",
     "output_type": "stream",
     "text": [
      "corners.shape: (24000, 1, 3)\n"
     ]
    }
   ],
   "source": [
    "pv(corners.shape)"
   ]
  },
  {
   "cell_type": "code",
   "execution_count": null,
   "metadata": {},
   "outputs": [],
   "source": [
    "publish_pc2(pc,  corners.reshape(-1, 8, 3).reshape(-1, 3))"
   ]
  },
  {
   "cell_type": "code",
   "execution_count": 23,
   "metadata": {
    "collapsed": true
   },
   "outputs": [],
   "source": [
    "import rospy\n",
    "node = rospy.init_node(\"pc2_publisher\")"
   ]
  },
  {
   "cell_type": "code",
   "execution_count": 24,
   "metadata": {
    "collapsed": true
   },
   "outputs": [],
   "source": [
    "from sensor_msgs.msg import PointCloud2\n",
    "pub = rospy.Publisher(\"/points_raw\", PointCloud2, queue_size=1000000)\n",
    "pub2 = rospy.Publisher(\"/points_raw1\", PointCloud2, queue_size=1000000)\n",
    "pub3 = rospy.Publisher(\"/points_raw2\", PointCloud2, queue_size=1000000)"
   ]
  },
  {
   "cell_type": "code",
   "execution_count": 47,
   "metadata": {
    "collapsed": true
   },
   "outputs": [],
   "source": [
    "def publish_pc2(pcloud, obj=None, obj2=None):\n",
    "    \"\"\"Publisher of PointCloud data\"\"\"\n",
    "    import rospy\n",
    "    import sensor_msgs.point_cloud2 as pc2\n",
    "    from sensor_msgs.msg import PointCloud2\n",
    "    import std_msgs\n",
    "    from visualization_msgs.msg import Marker\n",
    "    from geometry_msgs.msg import Point, TransformStamped\n",
    "\n",
    "    r = rospy.Rate(0.1)\n",
    "    \n",
    "    ts = rospy.Time.now()\n",
    "    \n",
    "    header = std_msgs.msg.Header()\n",
    "    header.stamp = ts\n",
    "    header.frame_id = \"velodyne\"\n",
    "    points = pc2.create_cloud_xyz32(header, pcloud)\n",
    "    pub.publish(points)\n",
    "\n",
    "    if obj is not None:\n",
    "        header = std_msgs.msg.Header()\n",
    "        header.stamp = ts\n",
    "        header.frame_id = \"velodyne\"\n",
    "        points2 = pc2.create_cloud_xyz32(header, obj)\n",
    "        pub2.publish(points2)\n",
    "        \n",
    "\n",
    "    if obj2 is not None:\n",
    "        header = std_msgs.msg.Header()\n",
    "        header.stamp = ts\n",
    "        header.frame_id = \"velodyne\"\n",
    "        points3 = pc2.create_cloud_xyz32(header, obj2)\n",
    "        pub3.publish(points3)\n",
    "\n",
    "    #while not rospy.is_shutdown():\n",
    "\n",
    "        \n",
    "    #if obj is not None:\n",
    "    #r.sleep()"
   ]
  },
  {
   "cell_type": "code",
   "execution_count": null,
   "metadata": {
    "collapsed": true
   },
   "outputs": [],
   "source": [
    "import sklearn\n",
    "sklearn.utils.shuffle"
   ]
  },
  {
   "cell_type": "code",
   "execution_count": null,
   "metadata": {
    "scrolled": true
   },
   "outputs": [],
   "source": [
    "points_glob = \"/home/paperspace/Desktop/converted/car/training/*/*/points/*.pcd\"\n",
    "labels_glob = \"/home/paperspace/Desktop/converted/car/training/*/*/labels/*.pickle\"\n",
    "\n",
    "def get_label_path_for_point_path(point_path):\n",
    "    ppath_parts = point_path.split('/')\n",
    "    ppath_parts[-1] = ppath_parts[-1].replace('pcd', 'pickle')\n",
    "    ppath_parts[-2] = 'labels'\n",
    "    return os.path.join(\"/\", *ppath_parts)\n",
    "  \n",
    "def visualize_points(points_path):#, label_path):\n",
    "    label_path = get_label_path_for_point_path(points_path)\n",
    "    pc = input_helpers.load_pc_from_pcd(points_path)\n",
    "    places, rots, size = input_helpers.read_labels(label_path)\n",
    "\n",
    "    #if(np.square(places[0]))\n",
    "    place_dist = np.sqrt(np.sum(np.square(places[0])))\n",
    "\n",
    "    if places is None or len(places.shape) == 0:\n",
    "        print(\"places is none for: %s, %s\" % (label_path, points_path))\n",
    "        #continue\n",
    "        return\n",
    "    \n",
    "    if place_dist > 50:\n",
    "        print(\"places is too far away (%s) for: %s, %s\"%(place_dist, label_path, points_path))\n",
    "        #return\n",
    "        #continue\n",
    "    else: \n",
    "        print(points_path, place_dist)\n",
    "        return True\n",
    "    \n",
    "    return None\n",
    "        \n",
    "    #corners = input_helpers.get_boxcorners(places, rots, size)\n",
    "    #publish_pc2(pc, corners.reshape(-1, 3))\n",
    "    #r.sleep()\n",
    "    #break\n",
    "\n",
    "\n",
    "points_paths = sorted( glob.glob(points_glob) )\n",
    "\n",
    "labels_paths = sorted( glob.glob(labels_glob) )\n",
    "\n",
    "#print(points_paths[0])\n",
    "#print(labels_paths)\n",
    "\n",
    "#visualize_points(points_paths[20])#, labels_paths[20])\n",
    "\n",
    "#points_path = points_paths[20]\n",
    "#pc = pcl.load(points_path)\n",
    "\n",
    "#z = np.array(pc.to_list())\n",
    "#z = np.array([[0, 0, 0]])\n",
    "r = rospy.Rate(0.5)\n",
    "for points_path in points_paths:\n",
    "    if visualize_points(points_path):\n",
    "        break"
   ]
  },
  {
   "cell_type": "code",
   "execution_count": null,
   "metadata": {},
   "outputs": [],
   "source": [
    "points_paths[-1000]"
   ]
  },
  {
   "cell_type": "code",
   "execution_count": null,
   "metadata": {
    "collapsed": true
   },
   "outputs": [],
   "source": []
  },
  {
   "cell_type": "code",
   "execution_count": null,
   "metadata": {},
   "outputs": [],
   "source": [
    "rospy.is_shutdown()"
   ]
  },
  {
   "cell_type": "code",
   "execution_count": null,
   "metadata": {
    "collapsed": true
   },
   "outputs": [],
   "source": []
  },
  {
   "cell_type": "code",
   "execution_count": null,
   "metadata": {
    "collapsed": true
   },
   "outputs": [],
   "source": [
    "def pc2voxel(pc, resolution=0.50, x=(0, 90), y=(-50, 50), z=(-4.5, 5.5), car_x=(-2, 2), car_y=(-2, 2), car_z=(-3, 2)):\n",
    "    \"\"\"Convert PointCloud2 to Voxel\"\"\"\n",
    "\n",
    "    # Filter out or own car :-()\n",
    "    car_logic_x = np.logical_and(pc[:, 0] > car_x[0], pc[:, 0] < car_x[1])\n",
    "    car_logic_y = np.logical_and(pc[:, 1] > car_y[0], pc[:, 1] < car_y[1])\n",
    "    car_logic_z = np.logical_and(pc[:, 2] > car_z[0], pc[:, 2] < car_z[1])\n",
    "    car_filter_xyz = np.logical_and(car_logic_x, np.logical_and(car_logic_y, car_logic_z))\n",
    "\n",
    "    logic_x = np.logical_and(pc[:, 0] >= x[0], pc[:, 0] < x[1])\n",
    "    logic_y = np.logical_and(pc[:, 1] >= y[0], pc[:, 1] < y[1])\n",
    "    logic_z = np.logical_and(pc[:, 2] >= z[0], pc[:, 2] < z[1])\n",
    "    logic_xyz = np.logical_and(logic_x, np.logical_and(logic_y, logic_z))\n",
    "\n",
    "    pc = pc[:, :3][np.logical_and(np.logical_not(car_filter_xyz), logic_xyz)]\n",
    "    pc = ((pc - np.array([x[0], y[0], z[0]])) / resolution).astype(np.int32)\n",
    "\n",
    "    voxel = np.zeros((int((x[1] - x[0]) / resolution),\n",
    "                      int((y[1] - y[0]) / resolution),\n",
    "                      int(round((z[1] - z[0]) / resolution))\n",
    "                      ))\n",
    "    voxel[pc[:, 0], pc[:, 1], pc[:, 2]] = 1\n",
    "    return voxel\n",
    "\n",
    "def get_boxcorners(places, rots, size):\n",
    "    \"\"\"Create 8 corners of bounding box from bottom center.\"\"\"\n",
    "    corners = []\n",
    "    for place, rot, sz in zip(places, rots, size):\n",
    "        x, y, z = place\n",
    "        h, w, l = sz\n",
    "        if l > 10:\n",
    "            continue\n",
    "\n",
    "        corner = np.array([\n",
    "            [x - l / 2.0, y - w / 2.0, z],\n",
    "            [x + l / 2.0, y - w / 2.0, z],\n",
    "            [x - l / 2.0, y + w / 2.0, z],\n",
    "            [x - l / 2.0, y - w / 2.0, z + h],\n",
    "            [x - l / 2.0, y + w / 2.0, z + h],\n",
    "            [x + l / 2.0, y + w / 2.0, z],\n",
    "            [x + l / 2.0, y - w / 2.0, z + h],\n",
    "            [x + l / 2.0, y + w / 2.0, z + h],\n",
    "        ])\n",
    "\n",
    "        corner -= np.array([x, y, z])\n",
    "\n",
    "        rot_matrix = np.array([\n",
    "            [np.cos(rot), -np.sin(rot), 0],\n",
    "            [np.sin(rot), np.cos(rot), 0],\n",
    "            [0, 0, 1]\n",
    "        ])\n",
    "\n",
    "        a = np.dot(corner, rot_matrix.transpose())\n",
    "        a += np.array([x, y, z])\n",
    "        corners.append(a)\n",
    "    return np.array(corners)\n"
   ]
  },
  {
   "cell_type": "code",
   "execution_count": null,
   "metadata": {
    "collapsed": true
   },
   "outputs": [],
   "source": [
    "def create_label(places, size, corners, resolution=0.50, x=(0, 90), y=(-50, 50), z=(-4.5, 5.5), scale=4, min_value=None):\n",
    "    \"\"\"Create training Labels\"\"\"\n",
    "\n",
    "    if min_value is None:\n",
    "        #min_value = [0.0, 0.0, 0.0]\n",
    "        min_value = [x[0], y[0], z[0]]\n",
    "    min_value = np.array(min_value)\n",
    "\n",
    "    places = np.array(places)\n",
    "    size = np.array(size)\n",
    "    corners = np.array(corners)\n",
    "\n",
    "    x_logical = np.logical_and((places[:, 0] < x[1]), (places[:, 0] >= x[0]))\n",
    "    y_logical = np.logical_and((places[:, 1] < y[1]), (places[:, 1] >= y[0]))\n",
    "    z_logical = np.logical_and((places[:, 2] + size[:, 0] / 2.0 < z[1]), (places[:, 2] + size[:, 0] / 2.0 >= z[0]))\n",
    "    xyz_logical = np.logical_and(x_logical, np.logical_and(y_logical, z_logical))\n",
    "\n",
    "    center = places.copy()\n",
    "    #center[:, 2] = center[:, 2] + size[:, 0] / 2.0  # Move bottom to center\n",
    "    sphere_center = ((center[xyz_logical] - min_value) / (resolution * scale)).astype(np.int32)\n",
    "\n",
    "    train_corners = corners[xyz_logical].copy()\n",
    "    anchor_center = sphere2center(sphere_center,\n",
    "                                     resolution=resolution,\n",
    "                                     scale=scale,\n",
    "                                     min_value=min_value)\n",
    "\n",
    "    #for index, (corner, center) in enumerate(zip(corners[xyz_logical], anchor_center)):\n",
    "    #    train_corners[index] = corner - center\n",
    "\n",
    "    return sphere_center, train_corners\n",
    "\n",
    "\n",
    "def sphere2center(p_sphere, resolution=0.5, scale=4, min_value=None):\n",
    "    \"\"\"from sphere center to label center\"\"\"\n",
    "\n",
    "    if min_value is None:\n",
    "        min_value = [0.0, 0.0, 0.0]\n",
    "    min_value = np.array(min_value)\n",
    "\n",
    "    center = p_sphere * (resolution * scale) + min_value\n",
    "    return center\n",
    "\n",
    "def corner_to_train(corners, sphere_center, resolution=0.50, x=(0, 90), y=(-50, 50), z=(-4.5, 5.5), scale=4, min_value=None):\n",
    "    \"\"\"Convert corner to Training label for regression loss\"\"\"\n",
    "\n",
    "    if min_value is None:\n",
    "        #min_value = [0.0, 0.0, 0.0]\n",
    "        min_value = [x[0], y[0], z[0]]\n",
    "    min_value = np.array(min_value)\n",
    "\n",
    "    x_logical = np.logical_and((corners[:, :, 0] < x[1]), (corners[:, :, 0] >= x[0]))\n",
    "    y_logical = np.logical_and((corners[:, :, 1] < y[1]), (corners[:, :, 1] >= y[0]))\n",
    "    z_logical = np.logical_and((corners[:, :, 2] < z[1]), (corners[:, :, 2] >= z[0]))\n",
    "    xyz_logical = np.logical_and(x_logical, np.logical_and(y_logical, z_logical)).all(axis=1)\n",
    "\n",
    "    train_corners = corners[xyz_logical].copy()\n",
    "    sphere_center = sphere2center(sphere_center,\n",
    "                                     resolution=resolution,\n",
    "                                     scale=scale,\n",
    "                                     min_value=min_value)\n",
    "\n",
    "    #for index, (corner, center) in enumerate(zip(corners[xyz_logical], sphere_center)):\n",
    "        #train_corners[index] = corner - center\n",
    "\n",
    "    return train_corners\n",
    "\n",
    "\n",
    "def corner_to_voxel(voxel_shape, corners, sphere_center, scale=4):\n",
    "    \"\"\"Create final regression label from corner\"\"\"\n",
    "    # import pdb\n",
    "    # pdb.set_trace()\n",
    "    corner_voxel = np.zeros((int(voxel_shape[0] / scale),\n",
    "                             int(voxel_shape[1] / scale),\n",
    "                             int(voxel_shape[2] / scale), 24))\n",
    "    corner_voxel[sphere_center[:, 0], sphere_center[:, 1], sphere_center[:, 2]] = corners\n",
    "    return corner_voxel\n",
    "\n",
    "def create_objectness_label(sphere_center, resolution=0.5, x=90, y=100, z=10, scale=4):\n",
    "    \"\"\"Create Objectness label\"\"\"\n",
    "    obj_maps = np.zeros((int(x / (resolution * scale)),\n",
    "                         int(y / (resolution * scale)),\n",
    "                         int(np.round(z / (resolution * scale)))\n",
    "                         ))\n",
    "    obj_maps[sphere_center[:, 0], sphere_center[:, 1], sphere_center[:, 2]] = 1\n",
    "    return obj_maps\n",
    "\n"
   ]
  },
  {
   "cell_type": "code",
   "execution_count": null,
   "metadata": {
    "collapsed": true
   },
   "outputs": [],
   "source": []
  },
  {
   "cell_type": "code",
   "execution_count": null,
   "metadata": {
    "collapsed": true
   },
   "outputs": [],
   "source": [
    "points_path = \"/home/paperspace/Desktop/converted/car/training/bmw_sitting_still/bmw01/points/1.pcd\"\n",
    "label_path = get_label_path_for_point_path(points_path) \n",
    "pc = input_helpers.load_pc_from_pcd(points_path)\n",
    "places, rots, size = input_helpers.read_labels(label_path)\n",
    "points = pc"
   ]
  },
  {
   "cell_type": "code",
   "execution_count": null,
   "metadata": {
    "collapsed": true
   },
   "outputs": [],
   "source": [
    "voxel_shape=(600, 600, 40)\n",
    "resolution=0.2\n",
    "scale=1\n",
    "x=(-60, 60)\n",
    "y=(-60, 60)\n",
    "z=(-4, 4)\n",
    "car_x=(-2, 2)\n",
    "car_y=(-2, 2)\n",
    "car_z=(-3, 2)"
   ]
  },
  {
   "cell_type": "code",
   "execution_count": null,
   "metadata": {},
   "outputs": [],
   "source": [
    "(\"%sx%sx%s_\"%voxel_shape)+(\"res%s_\" % resolution)+(\"sc%s\"%scale)"
   ]
  },
  {
   "cell_type": "code",
   "execution_count": null,
   "metadata": {},
   "outputs": [],
   "source": [
    "corners = get_boxcorners(places, rots, size)\n",
    "print(\"corners: \", corners.shape, corners)\n"
   ]
  },
  {
   "cell_type": "code",
   "execution_count": null,
   "metadata": {},
   "outputs": [],
   "source": [
    "\n",
    "\n",
    "center_sphere, corner_label = create_label(places, size, corners,\n",
    "                                           resolution=resolution,\n",
    "                                           x=x,\n",
    "                                           y=y,\n",
    "                                           z=z,\n",
    "                                           scale=scale,\n",
    "                                           min_value=[x[0], y[0], z[0]])\n",
    "\n",
    "print(\"center_sphere: \", center_sphere)\n",
    "print(\"corner_label: \", corner_label.shape, corner_label)\n",
    "\n",
    "g_map = create_objectness_label(center_sphere,\n",
    "                                            resolution=resolution,\n",
    "                                            x=(x[1] - x[0]),\n",
    "                                            y=(y[1] - y[0]),\n",
    "                                            z=(z[1] - z[0]),\n",
    "                                            scale=scale)\n",
    "\n",
    "print('g_map: ', np.argwhere(g_map > 0))\n",
    "\n",
    "g_cord = corner_label.reshape(corner_label.shape[0], -1)\n",
    "print(g_cord.shape)\n",
    "g_cord = corner_to_voxel(voxel_shape, g_cord, center_sphere, scale=scale)\n",
    "print(g_cord.shape)\n",
    "\n"
   ]
  },
  {
   "cell_type": "code",
   "execution_count": null,
   "metadata": {
    "collapsed": true
   },
   "outputs": [],
   "source": [
    "gc = np.argwhere(g_cord > 0)\n",
    "gm = np.argwhere(g_map > 0)"
   ]
  },
  {
   "cell_type": "code",
   "execution_count": null,
   "metadata": {},
   "outputs": [],
   "source": [
    "#model_01_conv.layers.cnn_model.layer2.get_shape().as_list()\n",
    "\n",
    "print(gm.)"
   ]
  },
  {
   "cell_type": "code",
   "execution_count": null,
   "metadata": {},
   "outputs": [],
   "source": [
    "print(gc.shape)\n",
    "print(gm.shape)\n",
    "print(gm)\n",
    "print(center_sphere)"
   ]
  },
  {
   "cell_type": "code",
   "execution_count": null,
   "metadata": {},
   "outputs": [],
   "source": [
    "print(gc)"
   ]
  },
  {
   "cell_type": "code",
   "execution_count": null,
   "metadata": {
    "collapsed": true
   },
   "outputs": [],
   "source": []
  },
  {
   "cell_type": "code",
   "execution_count": null,
   "metadata": {
    "collapsed": true
   },
   "outputs": [],
   "source": [
    "def nice_voxel(voxel):\n",
    "    v = voxel\n",
    "\n",
    "    v[:, 0] = v[:, 0] - np.min(v[:, 0])\n",
    "    v[:, 1] = v[:, 1] - np.min(v[:, 1])\n",
    "    v[:, 2] = v[:, 2] - np.min(v[:, 2])\n",
    "\n",
    "    v[:, 0] = v[:, 0] - np.mean(v[:, 0])\n",
    "    v[:, 1] = v[:, 1] - np.mean(v[:, 1])\n",
    "    v[:, 2] = v[:, 2] - np.mean(v[:, 2])\n",
    "    return v"
   ]
  },
  {
   "cell_type": "code",
   "execution_count": null,
   "metadata": {},
   "outputs": [],
   "source": [
    "corner_label.shape"
   ]
  },
  {
   "cell_type": "code",
   "execution_count": null,
   "metadata": {
    "collapsed": true
   },
   "outputs": [],
   "source": [
    "\"\"\"Publisher of PointCloud data\"\"\"\n",
    "import rospy\n",
    "import sensor_msgs.point_cloud2 as pc2\n",
    "from sensor_msgs.msg import PointCloud2\n",
    "import std_msgs\n",
    "from visualization_msgs.msg import Marker\n",
    "from geometry_msgs.msg import Point, TransformStamped\n",
    "from sensor_msgs.msg import PointCloud2\n",
    "\n",
    "#voxel[:, 0] = np.mean(voxel[:, 0])\n",
    "\n",
    "#publish_pc2(v)\n",
    "\n",
    "\n",
    "v = np.argwhere(pc2voxel(pc, x=x, y=y, z=z, resolution=resolution)>0)\n",
    "corn = np.argwhere(pc2voxel(corners[0], x=x, y=y, z=z, resolution=resolution))\n",
    "\n",
    "v=nice_voxel(v)\n",
    "corn=nice_voxel(corn)\n",
    "\n",
    "\n",
    "r = rospy.Rate(0.5)\n",
    "for _ in range(2):\n",
    "    header = std_msgs.msg.Header()\n",
    "    header.stamp = rospy.Time.now()\n",
    "    header.frame_id = \"velodyne\"\n",
    "    points = pc2.create_cloud_xyz32(header, v)\n",
    "    pub3.publish(points)\n",
    "    \n",
    "    header = std_msgs.msg.Header()\n",
    "    header.stamp = rospy.Time.now()\n",
    "    header.frame_id = \"velodyne\"\n",
    "    points = pc2.create_cloud_xyz32(header, corn)\n",
    "    pub2.publish(points)\n",
    "    \n",
    "    \n",
    "    #r.sleep()\n"
   ]
  },
  {
   "cell_type": "code",
   "execution_count": null,
   "metadata": {
    "collapsed": true
   },
   "outputs": [],
   "source": []
  }
 ],
 "metadata": {
  "kernelspec": {
   "display_name": "Python 2",
   "language": "python",
   "name": "python2"
  },
  "language_info": {
   "codemirror_mode": {
    "name": "ipython",
    "version": 3
   },
   "file_extension": ".py",
   "mimetype": "text/x-python",
   "name": "python",
   "nbconvert_exporter": "python",
   "pygments_lexer": "ipython3",
   "version": "3.4.3"
  }
 },
 "nbformat": 4,
 "nbformat_minor": 2
}
