{
 "cells": [
  {
   "cell_type": "code",
   "execution_count": 1,
   "metadata": {
    "collapsed": true
   },
   "outputs": [],
   "source": [
    "import sys\n",
    "import os\n",
    "import numpy as np\n",
    "import pandas as pd\n",
    "import cv2\n",
    "import tensorflow as tf\n",
    "import glob\n",
    "import pcl\n",
    "import math\n",
    "import pickle\n",
    "import six\n",
    "import parse_xml as pt"
   ]
  },
  {
   "cell_type": "code",
   "execution_count": 82,
   "metadata": {
    "collapsed": true
   },
   "outputs": [],
   "source": [
    "import model_01_conv\n",
    "import layers\n",
    "import input_helpers"
   ]
  },
  {
   "cell_type": "code",
   "execution_count": 92,
   "metadata": {},
   "outputs": [],
   "source": [
    "# reload everything\n",
    "import imp \n",
    "\n",
    "imp.reload(input_helpers)\n",
    "imp.reload(layers)\n",
    "imp.reload(model_01_conv)\n",
    "\n",
    "None"
   ]
  },
  {
   "cell_type": "code",
   "execution_count": 117,
   "metadata": {
    "collapsed": true
   },
   "outputs": [],
   "source": [
    "# Clear graph\n",
    "try:\n",
    "    with model_01_conv.tf.Session() as sess:\n",
    "        model_01_conv.tf.reset_default_graph()\n",
    "    None\n",
    "except:\n",
    "    pass"
   ]
  },
  {
   "cell_type": "code",
   "execution_count": null,
   "metadata": {
    "scrolled": false
   },
   "outputs": [
    {
     "name": "stdout",
     "output_type": "stream",
     "text": [
      "Training...\n",
      "batch_x.shape:  (1, 600, 600, 40, 1)\n",
      "batch_g_map.shape:  (1, 75, 75, 5)\n",
      "batch_g_cord.shape:  (1, 75, 75, 5, 24)\n",
      "Epoch: 0001 cord_loss_cost= 76.263031006 is_obj_loss_cost= 0.012447860 non_obj_loss_cost= 24.435743332\n",
      "batch_x.shape:  (1, 600, 600, 40, 1)\n",
      "batch_g_map.shape:  (1, 75, 75, 5)\n",
      "batch_g_cord.shape:  (1, 75, 75, 5, 24)\n",
      "Epoch: 0001 cord_loss_cost= 1.692838192 is_obj_loss_cost= 1.968089938 non_obj_loss_cost= 21.010423660\n",
      "batch_x.shape:  (1, 600, 600, 40, 1)\n",
      "batch_g_map.shape:  (1, 75, 75, 5)\n",
      "batch_g_cord.shape:  (1, 75, 75, 5, 24)\n",
      "Epoch: 0001 cord_loss_cost= 1.238764167 is_obj_loss_cost= 0.716077149 non_obj_loss_cost= 17.729066849\n",
      "batch_x.shape:  (1, 600, 600, 40, 1)\n",
      "batch_g_map.shape:  (1, 75, 75, 5)\n",
      "batch_g_cord.shape:  (1, 75, 75, 5, 24)\n",
      "Epoch: 0001 cord_loss_cost= 0.972504318 is_obj_loss_cost= 0.579063714 non_obj_loss_cost= 13.862715721\n",
      "batch_x.shape:  (1, 600, 600, 40, 1)\n",
      "batch_g_map.shape:  (1, 75, 75, 5)\n",
      "batch_g_cord.shape:  (1, 75, 75, 5, 24)\n",
      "Epoch: 0001 cord_loss_cost= 0.824115098 is_obj_loss_cost= 1.566582084 non_obj_loss_cost= 10.415801048\n",
      "batch_x.shape:  (1, 600, 600, 40, 1)\n",
      "batch_g_map.shape:  (1, 75, 75, 5)\n",
      "batch_g_cord.shape:  (1, 75, 75, 5, 24)\n",
      "Epoch: 0001 cord_loss_cost= 0.575879753 is_obj_loss_cost= 1.407609224 non_obj_loss_cost= 8.951246262\n",
      "batch_x.shape:  (1, 600, 600, 40, 1)\n",
      "batch_g_map.shape:  (1, 75, 75, 5)\n",
      "batch_g_cord.shape:  (1, 75, 75, 5, 24)\n",
      "Epoch: 0001 cord_loss_cost= 0.923481166 is_obj_loss_cost= 1.967160225 non_obj_loss_cost= 8.157635689\n",
      "batch_x.shape:  (1, 600, 600, 40, 1)\n",
      "batch_g_map.shape:  (1, 75, 75, 5)\n",
      "batch_g_cord.shape:  (1, 75, 75, 5, 24)\n",
      "Epoch: 0001 cord_loss_cost= 0.032347389 is_obj_loss_cost= 0.058930393 non_obj_loss_cost= 7.489103794\n",
      "batch_x.shape:  (1, 600, 600, 40, 1)\n",
      "batch_g_map.shape:  (1, 75, 75, 5)\n",
      "batch_g_cord.shape:  (1, 75, 75, 5, 24)\n",
      "Epoch: 0001 cord_loss_cost= 0.078588106 is_obj_loss_cost= 0.007587175 non_obj_loss_cost= 7.055115223\n",
      "batch_x.shape:  (1, 600, 600, 40, 1)\n",
      "batch_g_map.shape:  (1, 75, 75, 5)\n",
      "batch_g_cord.shape:  (1, 75, 75, 5, 24)\n",
      "Epoch: 0001 cord_loss_cost= 0.184904769 is_obj_loss_cost= 0.001378652 non_obj_loss_cost= 6.756444454\n",
      "batch_x.shape:  (1, 600, 600, 40, 1)\n",
      "batch_g_map.shape:  (1, 75, 75, 5)\n",
      "batch_g_cord.shape:  (1, 75, 75, 5, 24)\n",
      "Epoch: 0001 cord_loss_cost= 0.263672590 is_obj_loss_cost= 0.000314047 non_obj_loss_cost= 6.398228645\n",
      "batch_x.shape:  (1, 600, 600, 40, 1)\n",
      "batch_g_map.shape:  (1, 75, 75, 5)\n",
      "batch_g_cord.shape:  (1, 75, 75, 5, 24)\n",
      "Epoch: 0001 cord_loss_cost= 0.391225249 is_obj_loss_cost= 0.000064137 non_obj_loss_cost= 6.086914062\n",
      "batch_x.shape:  (1, 600, 600, 40, 1)\n",
      "batch_g_map.shape:  (1, 75, 75, 5)\n",
      "batch_g_cord.shape:  (1, 75, 75, 5, 24)\n",
      "Epoch: 0001 cord_loss_cost= 0.306329042 is_obj_loss_cost= 0.000162376 non_obj_loss_cost= 5.805408478\n",
      "batch_x.shape:  (1, 600, 600, 40, 1)\n",
      "batch_g_map.shape:  (1, 75, 75, 5)\n",
      "batch_g_cord.shape:  (1, 75, 75, 5, 24)\n",
      "Epoch: 0001 cord_loss_cost= 4.322484016 is_obj_loss_cost= 0.000481483 non_obj_loss_cost= 5.534296513\n",
      "batch_x.shape:  (1, 600, 600, 40, 1)\n",
      "batch_g_map.shape:  (1, 75, 75, 5)\n",
      "batch_g_cord.shape:  (1, 75, 75, 5, 24)\n",
      "Epoch: 0001 cord_loss_cost= 1.190594673 is_obj_loss_cost= 0.000003099 non_obj_loss_cost= 5.228938103\n",
      "batch_x.shape:  (1, 600, 600, 40, 1)\n",
      "batch_g_map.shape:  (1, 75, 75, 5)\n",
      "batch_g_cord.shape:  (1, 75, 75, 5, 24)\n",
      "Epoch: 0001 cord_loss_cost= 0.103035979 is_obj_loss_cost= 0.133494750 non_obj_loss_cost= 4.896102428\n",
      "batch_x.shape:  (1, 600, 600, 40, 1)\n",
      "batch_g_map.shape:  (1, 75, 75, 5)\n",
      "batch_g_cord.shape:  (1, 75, 75, 5, 24)\n",
      "Epoch: 0001 cord_loss_cost= 2.649200678 is_obj_loss_cost= 0.097499728 non_obj_loss_cost= 4.516964436\n",
      "batch_x.shape:  (1, 600, 600, 40, 1)\n",
      "batch_g_map.shape:  (1, 75, 75, 5)\n",
      "batch_g_cord.shape:  (1, 75, 75, 5, 24)\n",
      "Epoch: 0001 cord_loss_cost= 15.330614090 is_obj_loss_cost= 1.117134571 non_obj_loss_cost= 4.453631401\n",
      "batch_x.shape:  (1, 600, 600, 40, 1)\n",
      "batch_g_map.shape:  (1, 75, 75, 5)\n",
      "batch_g_cord.shape:  (1, 75, 75, 5, 24)\n",
      "Epoch: 0001 cord_loss_cost= 9.260509491 is_obj_loss_cost= 0.573211670 non_obj_loss_cost= 4.449223995\n",
      "batch_x.shape:  (1, 600, 600, 40, 1)\n",
      "batch_g_map.shape:  (1, 75, 75, 5)\n",
      "batch_g_cord.shape:  (1, 75, 75, 5, 24)\n",
      "Epoch: 0001 cord_loss_cost= 4.530093193 is_obj_loss_cost= 0.100142479 non_obj_loss_cost= 4.200927258\n",
      "batch_x.shape:  (1, 600, 600, 40, 1)\n",
      "batch_g_map.shape:  (1, 75, 75, 5)\n",
      "batch_g_cord.shape:  (1, 75, 75, 5, 24)\n",
      "Epoch: 0001 cord_loss_cost= 0.141946748 is_obj_loss_cost= 0.006412638 non_obj_loss_cost= 3.956486225\n",
      "batch_x.shape:  (1, 600, 600, 40, 1)\n",
      "batch_g_map.shape:  (1, 75, 75, 5)\n",
      "batch_g_cord.shape:  (1, 75, 75, 5, 24)\n",
      "Epoch: 0001 cord_loss_cost= 0.883123159 is_obj_loss_cost= 0.008619454 non_obj_loss_cost= 3.656244516\n",
      "batch_x.shape:  (1, 600, 600, 40, 1)\n",
      "batch_g_map.shape:  (1, 75, 75, 5)\n",
      "batch_g_cord.shape:  (1, 75, 75, 5, 24)\n",
      "Epoch: 0001 cord_loss_cost= 0.123653457 is_obj_loss_cost= 0.001248602 non_obj_loss_cost= 3.432262897\n",
      "batch_x.shape:  (1, 600, 600, 40, 1)\n",
      "batch_g_map.shape:  (1, 75, 75, 5)\n",
      "batch_g_cord.shape:  (1, 75, 75, 5, 24)\n",
      "Epoch: 0001 cord_loss_cost= 1.600757718 is_obj_loss_cost= 0.000168755 non_obj_loss_cost= 3.247185946\n",
      "batch_x.shape:  (1, 600, 600, 40, 1)\n",
      "batch_g_map.shape:  (1, 75, 75, 5)\n",
      "batch_g_cord.shape:  (1, 75, 75, 5, 24)\n",
      "Epoch: 0001 cord_loss_cost= 5.113761425 is_obj_loss_cost= 0.205219015 non_obj_loss_cost= 3.292243958\n",
      "batch_x.shape:  (1, 600, 600, 40, 1)\n",
      "batch_g_map.shape:  (1, 75, 75, 5)\n",
      "batch_g_cord.shape:  (1, 75, 75, 5, 24)\n",
      "Epoch: 0001 cord_loss_cost= 6.365252495 is_obj_loss_cost= -0.000006199 non_obj_loss_cost= 3.360703707\n",
      "batch_x.shape:  (1, 600, 600, 40, 1)\n",
      "batch_g_map.shape:  (1, 75, 75, 5)\n",
      "batch_g_cord.shape:  (1, 75, 75, 5, 24)\n",
      "Epoch: 0001 cord_loss_cost= 2.339148521 is_obj_loss_cost= 0.000004053 non_obj_loss_cost= 2.984612703\n",
      "batch_x.shape:  (1, 600, 600, 40, 1)\n",
      "batch_g_map.shape:  (1, 75, 75, 5)\n",
      "batch_g_cord.shape:  (1, 75, 75, 5, 24)\n",
      "Epoch: 0001 cord_loss_cost= 0.135579109 is_obj_loss_cost= 0.000085238 non_obj_loss_cost= 2.618855715\n",
      "batch_x.shape:  (1, 600, 600, 40, 1)\n",
      "batch_g_map.shape:  (1, 75, 75, 5)\n",
      "batch_g_cord.shape:  (1, 75, 75, 5, 24)\n",
      "Epoch: 0001 cord_loss_cost= 7.129948139 is_obj_loss_cost= 0.409519136 non_obj_loss_cost= 2.305529118\n",
      "batch_x.shape:  (1, 600, 600, 40, 1)\n",
      "batch_g_map.shape:  (1, 75, 75, 5)\n",
      "batch_g_cord.shape:  (1, 75, 75, 5, 24)\n",
      "Epoch: 0001 cord_loss_cost= 2.684680462 is_obj_loss_cost= 0.002504980 non_obj_loss_cost= 2.104606867\n",
      "batch_x.shape:  (1, 600, 600, 40, 1)\n",
      "batch_g_map.shape:  (1, 75, 75, 5)\n",
      "batch_g_cord.shape:  (1, 75, 75, 5, 24)\n",
      "Epoch: 0001 cord_loss_cost= 2.632287264 is_obj_loss_cost= 0.004115814 non_obj_loss_cost= 1.918438196\n",
      "batch_x.shape:  (1, 600, 600, 40, 1)\n",
      "batch_g_map.shape:  (1, 75, 75, 5)\n",
      "batch_g_cord.shape:  (1, 75, 75, 5, 24)\n",
      "Epoch: 0001 cord_loss_cost= 1.590061426 is_obj_loss_cost= 0.003214992 non_obj_loss_cost= 1.638398290\n",
      "batch_x.shape:  (1, 600, 600, 40, 1)\n",
      "batch_g_map.shape:  (1, 75, 75, 5)\n",
      "batch_g_cord.shape:  (1, 75, 75, 5, 24)\n",
      "Epoch: 0001 cord_loss_cost= 0.444652677 is_obj_loss_cost= 0.003097558 non_obj_loss_cost= 1.425801635\n",
      "batch_x.shape:  (1, 600, 600, 40, 1)\n",
      "batch_g_map.shape:  (1, 75, 75, 5)\n",
      "batch_g_cord.shape:  (1, 75, 75, 5, 24)\n",
      "Epoch: 0001 cord_loss_cost= 0.017024990 is_obj_loss_cost= 0.003262711 non_obj_loss_cost= 1.239254713\n",
      "batch_x.shape:  (1, 600, 600, 40, 1)\n",
      "batch_g_map.shape:  (1, 75, 75, 5)\n",
      "batch_g_cord.shape:  (1, 75, 75, 5, 24)\n",
      "Epoch: 0001 cord_loss_cost= 0.006453700 is_obj_loss_cost= 0.005143496 non_obj_loss_cost= 0.991330028\n",
      "batch_x.shape:  (1, 600, 600, 40, 1)\n",
      "batch_g_map.shape:  (1, 75, 75, 5)\n",
      "batch_g_cord.shape:  (1, 75, 75, 5, 24)\n",
      "Epoch: 0001 cord_loss_cost= 4.723307610 is_obj_loss_cost= 0.786117613 non_obj_loss_cost= 0.863607407\n",
      "batch_x.shape:  (1, 600, 600, 40, 1)\n",
      "batch_g_map.shape:  (1, 75, 75, 5)\n",
      "batch_g_cord.shape:  (1, 75, 75, 5, 24)\n",
      "Epoch: 0001 cord_loss_cost= 1.171050668 is_obj_loss_cost= 0.002217305 non_obj_loss_cost= 0.768277884\n",
      "batch_x.shape:  (1, 600, 600, 40, 1)\n",
      "batch_g_map.shape:  (1, 75, 75, 5)\n",
      "batch_g_cord.shape:  (1, 75, 75, 5, 24)\n"
     ]
    }
   ],
   "source": [
    "points_glob = \"/home/paperspace/Desktop/converted/car/training/*/nissan05/points/*.pcd\"\n",
    "labels_glob = \"/home/paperspace/Desktop/converted/car/training/*/nissan05/labels/*.pickle\"\n",
    "\n",
    "\n",
    "model_01_conv.train(1, points_glob, labels_glob, \n",
    "                      epochs=1,\n",
    "                      voxel_shape=(600, 600, 40),\n",
    "                      resolution=0.2,\n",
    "                      scale=8, \n",
    "                      x=(-60, 60),\n",
    "                      y=(-60, 60),\n",
    "                      z=(-4, 4)\n",
    "                     )"
   ]
  },
  {
   "cell_type": "code",
   "execution_count": 63,
   "metadata": {},
   "outputs": [
    {
     "name": "stdout",
     "output_type": "stream",
     "text": [
      "min: ( -92.9253463745, -104.192337036, -2.87062835693 )\n"
     ]
    }
   ],
   "source": [
    "\n",
    "pcd_path = \"/home/paperspace/Desktop/converted/car/training/bmw_sitting_still/bmw01/points/1.pcd\"\n",
    "points = pcl.load(pcd_path)\n",
    "points = np.array(points.to_list())\n",
    "\n",
    "min_x = np.min(points[:,0])\n",
    "min_y = np.min(points[:,1])\n",
    "min_z = np.min(points[:,2])\n",
    "print(\"min: ( %s, %s, %s )\"%(min_x, min_y, min_z))\n"
   ]
  },
  {
   "cell_type": "code",
   "execution_count": 105,
   "metadata": {},
   "outputs": [],
   "source": [
    "labels_path = \"/home/paperspace/Desktop/converted/car/training/bmw_sitting_still/bmw01/labels/1.pickle\"\n",
    "\n",
    "with open(labels_path, 'rb') as in_file:\n",
    "    size, place, rotate = pickle.load(in_file)"
   ]
  },
  {
   "cell_type": "code",
   "execution_count": 106,
   "metadata": {},
   "outputs": [
    {
     "data": {
      "text/plain": [
       "array([ 9.832361,  0.082566, -0.970618])"
      ]
     },
     "execution_count": 106,
     "metadata": {},
     "output_type": "execute_result"
    }
   ],
   "source": [
    "place"
   ]
  },
  {
   "cell_type": "code",
   "execution_count": null,
   "metadata": {
    "collapsed": true
   },
   "outputs": [],
   "source": []
  }
 ],
 "metadata": {
  "kernelspec": {
   "display_name": "Python 3",
   "language": "python",
   "name": "python3"
  },
  "language_info": {
   "codemirror_mode": {
    "name": "ipython",
    "version": 3
   },
   "file_extension": ".py",
   "mimetype": "text/x-python",
   "name": "python",
   "nbconvert_exporter": "python",
   "pygments_lexer": "ipython3",
   "version": "3.4.3"
  }
 },
 "nbformat": 4,
 "nbformat_minor": 2
}
