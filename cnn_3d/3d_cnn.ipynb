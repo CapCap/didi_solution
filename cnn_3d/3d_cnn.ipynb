{
 "cells": [
  {
   "cell_type": "code",
   "execution_count": 1,
   "metadata": {
    "collapsed": true
   },
   "outputs": [],
   "source": [
    "import sys\n",
    "import os\n",
    "import numpy as np\n",
    "import pandas as pd\n",
    "import cv2\n",
    "import tensorflow as tf\n",
    "import glob\n",
    "import pcl\n",
    "import math\n",
    "import pickle\n",
    "import six\n",
    "import parse_xml as pt"
   ]
  },
  {
   "cell_type": "code",
   "execution_count": 2,
   "metadata": {
    "collapsed": true
   },
   "outputs": [],
   "source": [
    "import model_01_conv\n",
    "import layers\n",
    "import input_helpers"
   ]
  },
  {
   "cell_type": "code",
   "execution_count": 3,
   "metadata": {},
   "outputs": [],
   "source": [
    "# reload everything\n",
    "import imp \n",
    "\n",
    "imp.reload(input_helpers)\n",
    "imp.reload(layers)\n",
    "imp.reload(model_01_conv)\n",
    "\n",
    "None"
   ]
  },
  {
   "cell_type": "code",
   "execution_count": 4,
   "metadata": {
    "collapsed": true
   },
   "outputs": [],
   "source": [
    "# Clear graph\n",
    "try:\n",
    "    with model_01_conv.tf.Session() as sess:\n",
    "        model_01_conv.tf.reset_default_graph()\n",
    "    None\n",
    "except:\n",
    "    pass"
   ]
  },
  {
   "cell_type": "code",
   "execution_count": 6,
   "metadata": {},
   "outputs": [
    {
     "name": "stdout",
     "output_type": "stream",
     "text": [
      "Training...\n"
     ]
    }
   ],
   "source": [
    "points_glob = \"/home/paperspace/Desktop/converted/car/training/*/*/points/*.pcd\"\n",
    "labels_glob = \"/home/paperspace/Desktop/converted/car/training/*/*/labels/*.pickle\"\n",
    "\n",
    "\n",
    "model_01_conv.train(5, \n",
    "                      points_glob=points_glob,\n",
    "                      labels_glob=labels_glob, \n",
    "                      epochs=20,\n",
    "                      #voxel_shape=(400, 400, 20),\n",
    "                      voxel_shape=(800, 800, 40),\n",
    "                      resolution=0.1,\n",
    "                      scale=4, \n",
    "                      x=(-40, 40),\n",
    "                      y=(-40, 40),\n",
    "                      z=(-3, 2)\n",
    "                     )"
   ]
  },
  {
   "cell_type": "code",
   "execution_count": 47,
   "metadata": {},
   "outputs": [
    {
     "data": {
      "text/plain": [
       "<PointCloud of 32292 points>"
      ]
     },
     "execution_count": 47,
     "metadata": {},
     "output_type": "execute_result"
    }
   ],
   "source": [
    "pcd_path = \"/home/paperspace/Desktop/converted/car/training/bmw_sitting_still/bmw01/points/1.pcd\"\n",
    "pcl.load(pcd_path)\n",
    "\n",
    "labels_path = \"/home/paperspace/Desktop/converted/car/training/bmw_sitting_still/bmw01/points/1.pcd\"\n",
    "\n",
    "#with open(pcd_path, 'rb') as in_file:\n",
    "    #size, place, rotate = pickle.load(in_file)\n"
   ]
  },
  {
   "cell_type": "code",
   "execution_count": null,
   "metadata": {
    "collapsed": true
   },
   "outputs": [],
   "source": []
  }
 ],
 "metadata": {
  "kernelspec": {
   "display_name": "Python 3",
   "language": "python",
   "name": "python3"
  },
  "language_info": {
   "codemirror_mode": {
    "name": "ipython",
    "version": 3
   },
   "file_extension": ".py",
   "mimetype": "text/x-python",
   "name": "python",
   "nbconvert_exporter": "python",
   "pygments_lexer": "ipython3",
   "version": "3.4.3"
  }
 },
 "nbformat": 4,
 "nbformat_minor": 2
}
