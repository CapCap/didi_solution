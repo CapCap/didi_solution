{
 "cells": [
  {
   "cell_type": "code",
   "execution_count": 1,
   "metadata": {
    "collapsed": true
   },
   "outputs": [],
   "source": [
    "import os, glob\n",
    "import cv2, numpy as np\n",
    "import matplotlib.pyplot as plt\n",
    "import matplotlib.image as mpimg\n",
    "import time\n",
    "from sklearn.svm import LinearSVC\n",
    "from sklearn.preprocessing import StandardScaler\n",
    "import skimage\n",
    "from skimage.feature import hog\n",
    "from sklearn.model_selection import train_test_split, GridSearchCV, RandomizedSearchCV\n",
    "from sklearn import svm\n",
    "from scipy.ndimage.measurements import label\n",
    "import sklearn"
   ]
  },
  {
   "cell_type": "code",
   "execution_count": 2,
   "metadata": {},
   "outputs": [
    {
     "name": "stdout",
     "output_type": "stream",
     "text": [
      "('Number of images:', 16440)\n"
     ]
    }
   ],
   "source": [
    "IMGS_INFO = '/Users/sarthak/Downloads/torrents/data_1_10.11.13.14f.15.17.18.19/'\n",
    "imgs = glob.glob(IMGS_INFO + '/**/labelled/*intensity*.png')\n",
    "print ('Number of images:', len(imgs))"
   ]
  },
  {
   "cell_type": "code",
   "execution_count": 3,
   "metadata": {
    "collapsed": true
   },
   "outputs": [],
   "source": [
    "#Create car and noncar data\n",
    "bbox_data = []\n",
    "for idx, img_file in enumerate(imgs):\n",
    "    bboxfile = os.path.join(img_file[:-4] + '.txt').replace('labelled', '')\n",
    "    data_line = open(bboxfile, 'r').readlines()[0].split(' ')\n",
    "    if data_line[0][0] == '[' and data_line[1][0] == '[':\n",
    "        bbox_data.append([float(data_line[0][1:-2]), float(data_line[1][1:-2]), float(data_line[2])])"
   ]
  },
  {
   "cell_type": "code",
   "execution_count": 4,
   "metadata": {},
   "outputs": [
    {
     "name": "stderr",
     "output_type": "stream",
     "text": [
      "/usr/local/lib/python2.7/site-packages/ipykernel_launcher.py:10: VisibleDeprecationWarning: using a non-integer number instead of an integer will result in an error in the future\n",
      "  # Remove the CWD from sys.path while we load stuff.\n"
     ]
    }
   ],
   "source": [
    "car_images, non_car_images = [], []\n",
    "for img_file, bbox in zip(imgs, bbox_data):\n",
    "    single_channel_im1 = cv2.imread(img_file)[:, :, 0]\n",
    "    single_channel_im2 = cv2.imread(img_file.replace('intensity', 'distance'))[:, :, 0]\n",
    "    single_channel_im = np.vstack((single_channel_im1, single_channel_im2))\n",
    "    car_images.append(single_channel_im[:, bbox[0] - 50 : bbox[0] + 50])\n",
    "    if car_images[-1].shape[0] == 0 or car_images[-1].shape[1] == 0:\n",
    "        if (bbox[0] - 50) < 0:\n",
    "            car_images[-1] = single_channel_im[:, 0:100]\n",
    "        else:\n",
    "            car_images[-1] = single_channel_im[:, -100:-1]\n",
    "    for x1 in range(0, int(bbox[0]) - 50, 100)[:-1]:\n",
    "        non_car_images.append(single_channel_im[:, x1 : (x1 + 100)])\n",
    "    for x2 in range(int(bbox[0]) + 50, single_channel_im.shape[1] - 1, 100)[:-1]:\n",
    "        non_car_images.append(single_channel_im[:, x2 : (x2 + 100)])\n",
    "    if non_car_images[-1].shape[1] == 0:\n",
    "        print img_file"
   ]
  },
  {
   "cell_type": "code",
   "execution_count": 5,
   "metadata": {},
   "outputs": [
    {
     "name": "stdout",
     "output_type": "stream",
     "text": [
      "('Number of car images:', 15755, ' with shape:', (138, 100))\n",
      "('Number of non car images:', 64909, ' with shape:', (138, 100))\n",
      "('Number of min image count:', 64909, ' with shape:', (138, 100))\n"
     ]
    }
   ],
   "source": [
    "print('Number of car images:', len(car_images), ' with shape:', car_images[0].shape)\n",
    "print('Number of non car images:', len(non_car_images), ' with shape:', non_car_images[0].shape)\n",
    "min_img_count = min([len(car_images), len(non_car_images), 15000])\n",
    "print('Number of min image count:', len(non_car_images), ' with shape:', non_car_images[0].shape)"
   ]
  },
  {
   "cell_type": "code",
   "execution_count": 28,
   "metadata": {
    "collapsed": true
   },
   "outputs": [],
   "source": [
    "# Define a function to extract features from a list of images\n",
    "def extract_features(imgs):\n",
    "    features = []\n",
    "    # Iterate through the list of images\n",
    "    for feature_image in imgs:\n",
    "        features.append(np.reshape(feature_image, (feature_image.shape[0], feature_image.shape[1], -1)))\n",
    "    # Return list of feature vectors\n",
    "    return features"
   ]
  },
  {
   "cell_type": "code",
   "execution_count": 30,
   "metadata": {
    "collapsed": true
   },
   "outputs": [],
   "source": [
    "def generate_features(vehicle_imgs, non_vehicle_imgs):\n",
    "    car_features = extract_features(vehicle_imgs)\n",
    "    not_car_features = extract_features(non_vehicle_imgs)\n",
    "    print ('Size of car features:', np.array(car_features).shape)\n",
    "    print ('Size of non car features:', np.array(not_car_features).shape)\n",
    "    return car_features, not_car_features"
   ]
  },
  {
   "cell_type": "code",
   "execution_count": 31,
   "metadata": {},
   "outputs": [
    {
     "name": "stdout",
     "output_type": "stream",
     "text": [
      "('Size of car features:', (15755, 138, 100, 1))\n",
      "('Size of non car features:', (64909, 138, 100, 1))\n"
     ]
    }
   ],
   "source": [
    "car_features, not_car_features = generate_features(car_images, non_car_images)"
   ]
  },
  {
   "cell_type": "code",
   "execution_count": 32,
   "metadata": {},
   "outputs": [
    {
     "name": "stdout",
     "output_type": "stream",
     "text": [
      "('Size of car features after sampling:', (15000, 138, 100, 1))\n",
      "('Size of non car features after sampling:', (15000, 138, 100, 1))\n"
     ]
    }
   ],
   "source": [
    "#Use even number of samples for training the classifying the window\n",
    "non_car_images2 = non_car_images[:min_img_count]\n",
    "not_car_features2 = not_car_features[:min_img_count]\n",
    "car_images2 = car_images[:min_img_count]\n",
    "car_features2 = car_features[:min_img_count]\n",
    "\n",
    "print ('Size of car features after sampling:', np.array(car_features2).shape)\n",
    "print ('Size of non car features after sampling:', np.array(not_car_features2).shape)\n",
    "\n",
    "labels = np.hstack((np.ones(len(car_features2)), np.zeros(len(not_car_features2))))\n",
    "X = np.vstack((car_features2, not_car_features2)).astype(np.float64)"
   ]
  },
  {
   "cell_type": "code",
   "execution_count": 33,
   "metadata": {},
   "outputs": [
    {
     "name": "stdout",
     "output_type": "stream",
     "text": [
      "('Size of car features:', (15000, 138, 100, 1))\n",
      "('Size of non car features:', (15000, 138, 100, 1))\n"
     ]
    }
   ],
   "source": [
    "# Split up data into randomized training and test sets\n",
    "print ('Size of car features:', np.array(car_features2).shape)\n",
    "print ('Size of non car features:', np.array(not_car_features2).shape)\n",
    "rand_state = np.random.randint(0, 100)\n",
    "X_train, X_test, y_train, y_test = train_test_split(X, labels, test_size=0.2, random_state=rand_state)"
   ]
  },
  {
   "cell_type": "code",
   "execution_count": 35,
   "metadata": {},
   "outputs": [
    {
     "name": "stdout",
     "output_type": "stream",
     "text": [
      "_________________________________________________________________\n",
      "Layer (type)                 Output Shape              Param #   \n",
      "=================================================================\n",
      "lambda_2 (Lambda)            (None, 138, 100, 1)       0         \n",
      "_________________________________________________________________\n",
      "conv2d_6 (Conv2D)            (None, 67, 48, 24)        624       \n",
      "_________________________________________________________________\n",
      "conv2d_7 (Conv2D)            (None, 32, 22, 36)        21636     \n",
      "_________________________________________________________________\n",
      "conv2d_8 (Conv2D)            (None, 14, 9, 48)         43248     \n",
      "_________________________________________________________________\n",
      "conv2d_9 (Conv2D)            (None, 12, 7, 64)         27712     \n",
      "_________________________________________________________________\n",
      "conv2d_10 (Conv2D)           (None, 10, 5, 64)         36928     \n",
      "_________________________________________________________________\n",
      "flatten_2 (Flatten)          (None, 3200)              0         \n",
      "_________________________________________________________________\n",
      "dense_10 (Dense)             (None, 4224)              13521024  \n",
      "_________________________________________________________________\n",
      "dropout_3 (Dropout)          (None, 4224)              0         \n",
      "_________________________________________________________________\n",
      "dense_11 (Dense)             (None, 3000)              12675000  \n",
      "_________________________________________________________________\n",
      "dropout_4 (Dropout)          (None, 3000)              0         \n",
      "_________________________________________________________________\n",
      "dense_12 (Dense)             (None, 2000)              6002000   \n",
      "_________________________________________________________________\n",
      "dense_13 (Dense)             (None, 1000)              2001000   \n",
      "_________________________________________________________________\n",
      "dense_14 (Dense)             (None, 500)               500500    \n",
      "_________________________________________________________________\n",
      "dense_15 (Dense)             (None, 100)               50100     \n",
      "_________________________________________________________________\n",
      "dense_16 (Dense)             (None, 50)                5050      \n",
      "_________________________________________________________________\n",
      "dense_17 (Dense)             (None, 10)                510       \n",
      "_________________________________________________________________\n",
      "dense_18 (Dense)             (None, 1)                 11        \n",
      "_________________________________________________________________\n",
      "activation_2 (Activation)    (None, 1)                 0         \n",
      "=================================================================\n",
      "Total params: 34,885,343\n",
      "Trainable params: 34,885,343\n",
      "Non-trainable params: 0\n",
      "_________________________________________________________________\n",
      "None\n"
     ]
    },
    {
     "name": "stderr",
     "output_type": "stream",
     "text": [
      "/usr/local/lib/python2.7/site-packages/ipykernel_launcher.py:17: UserWarning: Update your `Conv2D` call to the Keras 2 API: `Conv2D(24, (5, 5), strides=(2, 2), activation=\"relu\")`\n",
      "/usr/local/lib/python2.7/site-packages/ipykernel_launcher.py:18: UserWarning: Update your `Conv2D` call to the Keras 2 API: `Conv2D(36, (5, 5), strides=(2, 2), activation=\"relu\")`\n",
      "/usr/local/lib/python2.7/site-packages/ipykernel_launcher.py:19: UserWarning: Update your `Conv2D` call to the Keras 2 API: `Conv2D(48, (5, 5), strides=(2, 2), activation=\"relu\")`\n",
      "/usr/local/lib/python2.7/site-packages/ipykernel_launcher.py:20: UserWarning: Update your `Conv2D` call to the Keras 2 API: `Conv2D(64, (3, 3), strides=(1, 1), activation=\"relu\")`\n",
      "/usr/local/lib/python2.7/site-packages/ipykernel_launcher.py:21: UserWarning: Update your `Conv2D` call to the Keras 2 API: `Conv2D(64, (3, 3), strides=(1, 1), activation=\"relu\")`\n"
     ]
    }
   ],
   "source": [
    "from keras.models import Sequential\n",
    "from keras.layers import Flatten, Dense, Lambda\n",
    "from keras.layers import Convolution2D, Dropout, Activation\n",
    "from keras.layers.pooling import MaxPooling2D\n",
    "from keras.layers import Cropping2D\n",
    "from keras import optimizers\n",
    "import keras\n",
    "from keras.backend import tf as ktf\n",
    "\n",
    "model = Sequential()\n",
    "# Crop the images with 65 px from top and 25 px from bottom\n",
    "#model.add(Cropping2D(cropping=((65,25), (0,0)), input_shape=(160, 320, 3)))\n",
    "# Normalize the image\n",
    "model.add(Lambda(lambda x: x / 255.0 - 0.5, input_shape=(138, 100, 1)))\n",
    "\n",
    "#NVIDA End to End Learning\n",
    "model.add(Convolution2D(24, 5, 5, activation='relu', subsample=(2, 2)))\n",
    "model.add(Convolution2D(36, 5, 5, activation='relu', subsample=(2, 2)))\n",
    "model.add(Convolution2D(48, 5, 5, activation='relu', subsample=(2, 2)))\n",
    "model.add(Convolution2D(64, 3, 3, activation='relu', subsample=(1, 1)))\n",
    "model.add(Convolution2D(64, 3, 3, activation='relu', subsample=(1, 1)))\n",
    "\n",
    "model.add(Flatten())\n",
    "\n",
    "model.add(Dense(4224))\n",
    "model.add(Dropout(0.75))\n",
    "model.add(Dense(3000))\n",
    "model.add(Dropout(0.75))\n",
    "model.add(Dense(2000))\n",
    "model.add(Dense(1000))\n",
    "model.add(Dense(500))\n",
    "\n",
    "model.add(Dense(100))\n",
    "model.add(Dense(50))\n",
    "model.add(Dense(10))\n",
    "model.add(Dense(1))\n",
    "model.add(Activation('sigmoid'))\n",
    "print(model.summary())"
   ]
  },
  {
   "cell_type": "code",
   "execution_count": 36,
   "metadata": {},
   "outputs": [
    {
     "name": "stdout",
     "output_type": "stream",
     "text": [
      "Train on 24604 samples, validate on 6151 samples\n",
      "Epoch 1/20\n",
      "24576/24604 [============================>.] - ETA: 0s - loss: 0.5710 - acc: 0.6941Epoch 00000: val_loss improved from inf to 0.49280, saving model to best_model.h5\n",
      "24604/24604 [==============================] - 562s - loss: 0.5710 - acc: 0.6941 - val_loss: 0.4928 - val_acc: 0.7504\n",
      "Epoch 2/20\n",
      "24576/24604 [============================>.] - ETA: 0s - loss: 0.4806 - acc: 0.7630Epoch 00001: val_loss improved from 0.49280 to 0.44508, saving model to best_model.h5\n",
      "24604/24604 [==============================] - 546s - loss: 0.4807 - acc: 0.7628 - val_loss: 0.4451 - val_acc: 0.7768\n",
      "Epoch 3/20\n",
      "24576/24604 [============================>.] - ETA: 0s - loss: 0.4204 - acc: 0.7969Epoch 00002: val_loss improved from 0.44508 to 0.40338, saving model to best_model.h5\n",
      "24604/24604 [==============================] - 522s - loss: 0.4205 - acc: 0.7967 - val_loss: 0.4034 - val_acc: 0.8051\n",
      "Epoch 4/20\n",
      "24576/24604 [============================>.] - ETA: 0s - loss: 0.3806 - acc: 0.8155Epoch 00003: val_loss improved from 0.40338 to 0.37792, saving model to best_model.h5\n",
      "24604/24604 [==============================] - 514s - loss: 0.3806 - acc: 0.8156 - val_loss: 0.3779 - val_acc: 0.8117\n",
      "Epoch 5/20\n",
      "24576/24604 [============================>.] - ETA: 0s - loss: 0.3496 - acc: 0.8318Epoch 00004: val_loss improved from 0.37792 to 0.37207, saving model to best_model.h5\n",
      "24604/24604 [==============================] - 510s - loss: 0.3497 - acc: 0.8318 - val_loss: 0.3721 - val_acc: 0.8262\n",
      "Epoch 6/20\n",
      "24576/24604 [============================>.] - ETA: 0s - loss: 0.3248 - acc: 0.8460Epoch 00005: val_loss did not improve\n",
      "24604/24604 [==============================] - 510s - loss: 0.3249 - acc: 0.8459 - val_loss: 0.3875 - val_acc: 0.8254\n",
      "Epoch 7/20\n",
      "24576/24604 [============================>.] - ETA: 0s - loss: 0.3062 - acc: 0.8571Epoch 00006: val_loss improved from 0.37207 to 0.33051, saving model to best_model.h5\n",
      "24604/24604 [==============================] - 510s - loss: 0.3063 - acc: 0.8571 - val_loss: 0.3305 - val_acc: 0.8343\n",
      "Epoch 8/20\n",
      "24576/24604 [============================>.] - ETA: 0s - loss: 0.2890 - acc: 0.8652Epoch 00007: val_loss did not improve\n",
      "24604/24604 [==============================] - 511s - loss: 0.2888 - acc: 0.8652 - val_loss: 0.3592 - val_acc: 0.8351\n",
      "Epoch 9/20\n",
      "24576/24604 [============================>.] - ETA: 0s - loss: 0.2755 - acc: 0.8714Epoch 00008: val_loss did not improve\n",
      "24604/24604 [==============================] - 512s - loss: 0.2756 - acc: 0.8714 - val_loss: 0.3535 - val_acc: 0.8298\n",
      "Epoch 10/20\n",
      "24576/24604 [============================>.] - ETA: 0s - loss: 0.2648 - acc: 0.8794Epoch 00009: val_loss did not improve\n",
      "24604/24604 [==============================] - 509s - loss: 0.2648 - acc: 0.8795 - val_loss: 0.3338 - val_acc: 0.8389\n",
      "Epoch 11/20\n",
      "24576/24604 [============================>.] - ETA: 0s - loss: 0.2518 - acc: 0.8822Epoch 00010: val_loss improved from 0.33051 to 0.30743, saving model to best_model.h5\n",
      "24604/24604 [==============================] - 511s - loss: 0.2519 - acc: 0.8822 - val_loss: 0.3074 - val_acc: 0.8551\n",
      "Epoch 12/20\n",
      "24576/24604 [============================>.] - ETA: 0s - loss: 0.2423 - acc: 0.8868Epoch 00011: val_loss did not improve\n",
      "24604/24604 [==============================] - 514s - loss: 0.2424 - acc: 0.8868 - val_loss: 0.3282 - val_acc: 0.8462\n",
      "Epoch 13/20\n",
      "24576/24604 [============================>.] - ETA: 0s - loss: 0.2327 - acc: 0.8930Epoch 00012: val_loss did not improve\n",
      "24604/24604 [==============================] - 525s - loss: 0.2327 - acc: 0.8930 - val_loss: 0.3311 - val_acc: 0.8495\n",
      "Epoch 14/20\n",
      "24576/24604 [============================>.] - ETA: 0s - loss: 0.2260 - acc: 0.8987Epoch 00013: val_loss did not improve\n",
      "24604/24604 [==============================] - 579s - loss: 0.2261 - acc: 0.8987 - val_loss: 0.3179 - val_acc: 0.8551\n",
      "Epoch 15/20\n",
      "24576/24604 [============================>.] - ETA: 0s - loss: 0.2164 - acc: 0.9019Epoch 00014: val_loss did not improve\n",
      "24604/24604 [==============================] - 516s - loss: 0.2165 - acc: 0.9018 - val_loss: 0.3332 - val_acc: 0.8522\n",
      "Epoch 16/20\n",
      "24576/24604 [============================>.] - ETA: 0s - loss: 0.2084 - acc: 0.9044Epoch 00015: val_loss did not improve\n",
      "24604/24604 [==============================] - 513s - loss: 0.2083 - acc: 0.9045 - val_loss: 0.3644 - val_acc: 0.8467\n",
      "Epoch 17/20\n",
      "24576/24604 [============================>.] - ETA: 0s - loss: 0.2014 - acc: 0.9085Epoch 00016: val_loss did not improve\n",
      "24604/24604 [==============================] - 516s - loss: 0.2014 - acc: 0.9084 - val_loss: 0.3363 - val_acc: 0.8525\n",
      "Epoch 18/20\n",
      "24576/24604 [============================>.] - ETA: 0s - loss: 0.1953 - acc: 0.9126Epoch 00017: val_loss did not improve\n",
      "24604/24604 [==============================] - 522s - loss: 0.1954 - acc: 0.9126 - val_loss: 0.3503 - val_acc: 0.8469\n",
      "Epoch 19/20\n",
      "24576/24604 [============================>.] - ETA: 0s - loss: 0.1899 - acc: 0.9161Epoch 00018: val_loss did not improve\n",
      "24604/24604 [==============================] - 520s - loss: 0.1900 - acc: 0.9160 - val_loss: 0.3421 - val_acc: 0.8540\n",
      "Epoch 20/20\n",
      "24576/24604 [============================>.] - ETA: 0s - loss: 0.1834 - acc: 0.9165Epoch 00019: val_loss did not improve\n",
      "24604/24604 [==============================] - 529s - loss: 0.1835 - acc: 0.9165 - val_loss: 0.3512 - val_acc: 0.8467\n"
     ]
    }
   ],
   "source": [
    "from keras.models import Model\n",
    "import matplotlib.pyplot as plt\n",
    "\n",
    "# Save the model if validation loss improves from the last best model\n",
    "modelCheckpoint = keras.callbacks.ModelCheckpoint('best_model.h5',\n",
    "                                                  monitor='val_loss',\n",
    "                                                  save_best_only=True,\n",
    "                                                  verbose=1)\n",
    "# Save the training log\n",
    "csv_logger = keras.callbacks.CSVLogger('training.log')\n",
    "# Compile the model\n",
    "model.compile(loss='binary_crossentropy', optimizer=optimizers.Adam(lr=0.0001), metrics=['accuracy'])\n",
    "\n",
    "#Fit the model using the generator\n",
    "#print y_train\n",
    "history_object = model.fit(X_train, y_train, batch_size=32, \n",
    "                                     #samples_per_epoch = len(X_train),\n",
    "                                     nb_epoch=20,\n",
    "                                     #nb_val_samples = len(X_test),\n",
    "                                     validation_data = (X_test, y_test),\n",
    "                                     verbose=1,\n",
    "                                     callbacks=[modelCheckpoint, csv_logger])\n",
    "\n"
   ]
  },
  {
   "cell_type": "code",
   "execution_count": 38,
   "metadata": {},
   "outputs": [
    {
     "data": {
      "text/plain": [
       "<matplotlib.figure.Figure at 0x15e2bee50>"
      ]
     },
     "metadata": {},
     "output_type": "display_data"
    },
    {
     "data": {
      "image/png": "[encoded data removed]",
      "text/plain": [
       "<matplotlib.figure.Figure at 0x145005210>"
      ]
     },
     "metadata": {},
     "output_type": "display_data"
    }
   ],
   "source": [
    "plt.clf()\n",
    "f = plt.figure(figsize=(16, 8))\n",
    "#plt.ylabel('accuracy')\n",
    "plt.xlabel('epoch')\n",
    "\n",
    "# summarize history for accuracy\n",
    "ax1 = f.add_subplot(1, 2, 1)\n",
    "ax1.plot(history_object.history['acc'])\n",
    "ax1.plot(history_object.history['val_acc'])\n",
    "ax1.set_title('model accuracy', fontsize=20)\n",
    "ax1.legend(['train', 'test'], loc='upper left')\n",
    "\n",
    "#summarize history for loss\n",
    "ax2 = f.add_subplot(1, 2, 2)\n",
    "ax2.plot(history_object.history['loss'])\n",
    "ax2.plot(history_object.history['val_loss'])\n",
    "ax2.set_title('model loss', fontsize=20)\n",
    "ax2.legend(['train', 'test'], loc='upper left')\n",
    "\n",
    "plt.show()\n",
    "plt.savefig('model_loss.png')\n"
   ]
  },
  {
   "cell_type": "code",
   "execution_count": null,
   "metadata": {
    "collapsed": true
   },
   "outputs": [],
   "source": [
    "from keras.models import load_model\n",
    "final_model = load_model('best_model.h5')"
   ]
  },
  {
   "cell_type": "code",
   "execution_count": null,
   "metadata": {
    "collapsed": true
   },
   "outputs": [],
   "source": []
  }
 ],
 "metadata": {
  "kernelspec": {
   "display_name": "Python 2",
   "language": "python",
   "name": "python2"
  },
  "language_info": {
   "codemirror_mode": {
    "name": "ipython",
    "version": 2
   },
   "file_extension": ".py",
   "mimetype": "text/x-python",
   "name": "python",
   "nbconvert_exporter": "python",
   "pygments_lexer": "ipython2",
   "version": "2.7.13"
  }
 },
 "nbformat": 4,
 "nbformat_minor": 2
}
